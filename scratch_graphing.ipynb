{
 "cells": [
  {
   "cell_type": "code",
   "execution_count": 35,
   "metadata": {
    "ExecuteTime": {
     "end_time": "2019-04-22T05:45:10.576183Z",
     "start_time": "2019-04-22T05:45:09.088004Z"
    }
   },
   "outputs": [],
   "source": [
    "import matplotlib.pyplot as plt\n",
    "import numpy as np\n",
    "import pandas as pd\n",
    "import plotly.graph_objs as go\n",
    "from plotly.offline import iplot\n",
    "import seaborn as sns"
   ]
  },
  {
   "cell_type": "code",
   "execution_count": 12,
   "metadata": {
    "ExecuteTime": {
     "end_time": "2019-04-22T05:38:24.148491Z",
     "start_time": "2019-04-22T05:38:24.144726Z"
    }
   },
   "outputs": [],
   "source": [
    "def ends(df, n):\n",
    "    \"\"\"Show both head and tail of a pandas series or dataframe.\n",
    "    \n",
    "    Parameters\n",
    "    -----------\n",
    "    n: int\n",
    "        # of rows to display in head and tail, respectively (i.e. the total\n",
    "        # of rows displayed will be 2*n).\n",
    "    \"\"\"\n",
    "    return pd.concat([df.head(n), df.tail(n)], axis=0)"
   ]
  },
  {
   "cell_type": "code",
   "execution_count": 13,
   "metadata": {
    "ExecuteTime": {
     "end_time": "2019-04-22T05:38:26.071903Z",
     "start_time": "2019-04-22T05:38:26.065649Z"
    }
   },
   "outputs": [],
   "source": [
    "def top_cats(df, col, cats=None, val=None):\n",
    "    \"\"\"Filter a df to only include the most common categories.\n",
    "    \n",
    "    Parameters\n",
    "    -----------\n",
    "    cats: int\n",
    "        Optional - # of categories to include (i.e. top 5 most common\n",
    "        categories).\n",
    "    val: int\n",
    "        Optional - Value count threshold to include (i.e. all categories that\n",
    "        occur at least 10 times).\n",
    "    \"\"\"\n",
    "    if cats is not None:\n",
    "        top = df[col].value_counts(ascending=False).head(cats).index\n",
    "        return df[df[col].isin(top)]\n",
    "    if val is not None:\n",
    "        return df.groupby(col).filter(lambda x: len(x) >= val)"
   ]
  },
  {
   "cell_type": "code",
   "execution_count": 14,
   "metadata": {
    "ExecuteTime": {
     "end_time": "2019-04-22T05:38:26.236783Z",
     "start_time": "2019-04-22T05:38:26.233423Z"
    }
   },
   "outputs": [],
   "source": [
    "pd.DataFrame.ends = ends\n",
    "pd.Series.ends = ends"
   ]
  },
  {
   "cell_type": "code",
   "execution_count": 25,
   "metadata": {
    "ExecuteTime": {
     "end_time": "2019-04-22T05:42:47.350946Z",
     "start_time": "2019-04-22T05:42:47.221617Z"
    }
   },
   "outputs": [
    {
     "name": "stdout",
     "output_type": "stream",
     "text": [
      "(2589, 47)\n"
     ]
    },
    {
     "data": {
      "text/html": [
       "<div>\n",
       "<style scoped>\n",
       "    .dataframe tbody tr th:only-of-type {\n",
       "        vertical-align: middle;\n",
       "    }\n",
       "\n",
       "    .dataframe tbody tr th {\n",
       "        vertical-align: top;\n",
       "    }\n",
       "\n",
       "    .dataframe thead th {\n",
       "        text-align: right;\n",
       "    }\n",
       "</style>\n",
       "<table border=\"1\" class=\"dataframe\">\n",
       "  <thead>\n",
       "    <tr style=\"text-align: right;\">\n",
       "      <th></th>\n",
       "      <th>d</th>\n",
       "      <th>l</th>\n",
       "      <th>nc</th>\n",
       "      <th>w</th>\n",
       "      <th>association</th>\n",
       "      <th>country</th>\n",
       "      <th>dob</th>\n",
       "      <th>fname</th>\n",
       "      <th>height1</th>\n",
       "      <th>height2</th>\n",
       "      <th>...</th>\n",
       "      <th>z_td_acc</th>\n",
       "      <th>z_td_avg</th>\n",
       "      <th>z_td_def</th>\n",
       "      <th>z_eff</th>\n",
       "      <th>z_active</th>\n",
       "      <th>z_grind</th>\n",
       "      <th>z_st_ratio</th>\n",
       "      <th>z_age</th>\n",
       "      <th>z_ape_ratio</th>\n",
       "      <th>fights</th>\n",
       "    </tr>\n",
       "  </thead>\n",
       "  <tbody>\n",
       "    <tr>\n",
       "      <th>0</th>\n",
       "      <td>0</td>\n",
       "      <td>4</td>\n",
       "      <td>0.0</td>\n",
       "      <td>13</td>\n",
       "      <td>The Kennel Fight Club</td>\n",
       "      <td>USA</td>\n",
       "      <td>1989-09-22</td>\n",
       "      <td>Corey</td>\n",
       "      <td>75.0</td>\n",
       "      <td>75.0</td>\n",
       "      <td>...</td>\n",
       "      <td>0.788867</td>\n",
       "      <td>1.671040</td>\n",
       "      <td>1.272282</td>\n",
       "      <td>0.167906</td>\n",
       "      <td>0.081024</td>\n",
       "      <td>NaN</td>\n",
       "      <td>-0.457772</td>\n",
       "      <td>-1.282854</td>\n",
       "      <td>0.907691</td>\n",
       "      <td>17.0</td>\n",
       "    </tr>\n",
       "    <tr>\n",
       "      <th>1</th>\n",
       "      <td>0</td>\n",
       "      <td>4</td>\n",
       "      <td>0.0</td>\n",
       "      <td>18</td>\n",
       "      <td>Jackson-Wink MMA</td>\n",
       "      <td>USA</td>\n",
       "      <td>1984-09-20</td>\n",
       "      <td>Quinn</td>\n",
       "      <td>75.0</td>\n",
       "      <td>75.0</td>\n",
       "      <td>...</td>\n",
       "      <td>-0.445737</td>\n",
       "      <td>-0.124767</td>\n",
       "      <td>-0.408081</td>\n",
       "      <td>-0.279619</td>\n",
       "      <td>-0.803921</td>\n",
       "      <td>NaN</td>\n",
       "      <td>-0.349774</td>\n",
       "      <td>-0.182323</td>\n",
       "      <td>-0.379793</td>\n",
       "      <td>22.0</td>\n",
       "    </tr>\n",
       "    <tr>\n",
       "      <th>2</th>\n",
       "      <td>0</td>\n",
       "      <td>3</td>\n",
       "      <td>0.0</td>\n",
       "      <td>20</td>\n",
       "      <td>Wand Fight Team</td>\n",
       "      <td>USA</td>\n",
       "      <td>1969-10-31</td>\n",
       "      <td>Jason</td>\n",
       "      <td>66.0</td>\n",
       "      <td>66.0</td>\n",
       "      <td>...</td>\n",
       "      <td>-0.674560</td>\n",
       "      <td>0.327581</td>\n",
       "      <td>-0.007771</td>\n",
       "      <td>-1.198965</td>\n",
       "      <td>-0.650687</td>\n",
       "      <td>NaN</td>\n",
       "      <td>-0.764141</td>\n",
       "      <td>3.390778</td>\n",
       "      <td>NaN</td>\n",
       "      <td>23.0</td>\n",
       "    </tr>\n",
       "    <tr>\n",
       "      <th>2586</th>\n",
       "      <td>0</td>\n",
       "      <td>4</td>\n",
       "      <td>0.0</td>\n",
       "      <td>7</td>\n",
       "      <td>NaN</td>\n",
       "      <td>NaN</td>\n",
       "      <td>1980-10-16</td>\n",
       "      <td>Rafael</td>\n",
       "      <td>65.0</td>\n",
       "      <td>NaN</td>\n",
       "      <td>...</td>\n",
       "      <td>0.056213</td>\n",
       "      <td>0.906888</td>\n",
       "      <td>0.783814</td>\n",
       "      <td>-0.447846</td>\n",
       "      <td>-0.371495</td>\n",
       "      <td>0.533514</td>\n",
       "      <td>-0.622730</td>\n",
       "      <td>1.167663</td>\n",
       "      <td>0.363415</td>\n",
       "      <td>11.0</td>\n",
       "    </tr>\n",
       "    <tr>\n",
       "      <th>2587</th>\n",
       "      <td>1</td>\n",
       "      <td>1</td>\n",
       "      <td>0.0</td>\n",
       "      <td>6</td>\n",
       "      <td>NaN</td>\n",
       "      <td>NaN</td>\n",
       "      <td>1990-06-11</td>\n",
       "      <td>Matt</td>\n",
       "      <td>69.0</td>\n",
       "      <td>NaN</td>\n",
       "      <td>...</td>\n",
       "      <td>0.256007</td>\n",
       "      <td>0.442924</td>\n",
       "      <td>1.187314</td>\n",
       "      <td>-0.021923</td>\n",
       "      <td>0.768572</td>\n",
       "      <td>-0.343374</td>\n",
       "      <td>-0.235104</td>\n",
       "      <td>-1.290348</td>\n",
       "      <td>0.184593</td>\n",
       "      <td>8.0</td>\n",
       "    </tr>\n",
       "    <tr>\n",
       "      <th>2588</th>\n",
       "      <td>0</td>\n",
       "      <td>8</td>\n",
       "      <td>3.0</td>\n",
       "      <td>20</td>\n",
       "      <td>NaN</td>\n",
       "      <td>NaN</td>\n",
       "      <td>1975-05-18</td>\n",
       "      <td>Ross</td>\n",
       "      <td>69.0</td>\n",
       "      <td>NaN</td>\n",
       "      <td>...</td>\n",
       "      <td>2.361239</td>\n",
       "      <td>1.093946</td>\n",
       "      <td>-1.461042</td>\n",
       "      <td>0.073004</td>\n",
       "      <td>-1.534257</td>\n",
       "      <td>NaN</td>\n",
       "      <td>-0.557066</td>\n",
       "      <td>1.627098</td>\n",
       "      <td>NaN</td>\n",
       "      <td>31.0</td>\n",
       "    </tr>\n",
       "  </tbody>\n",
       "</table>\n",
       "<p>6 rows × 47 columns</p>\n",
       "</div>"
      ],
      "text/plain": [
       "      d  l   nc   w            association country        dob   fname  \\\n",
       "0     0  4  0.0  13  The Kennel Fight Club     USA 1989-09-22   Corey   \n",
       "1     0  4  0.0  18       Jackson-Wink MMA     USA 1984-09-20   Quinn   \n",
       "2     0  3  0.0  20        Wand Fight Team     USA 1969-10-31   Jason   \n",
       "2586  0  4  0.0   7                    NaN     NaN 1980-10-16  Rafael   \n",
       "2587  1  1  0.0   6                    NaN     NaN 1990-06-11    Matt   \n",
       "2588  0  8  3.0  20                    NaN     NaN 1975-05-18    Ross   \n",
       "\n",
       "      height1  height2  ...  z_td_acc  z_td_avg  z_td_def     z_eff  z_active  \\\n",
       "0        75.0     75.0  ...  0.788867  1.671040  1.272282  0.167906  0.081024   \n",
       "1        75.0     75.0  ... -0.445737 -0.124767 -0.408081 -0.279619 -0.803921   \n",
       "2        66.0     66.0  ... -0.674560  0.327581 -0.007771 -1.198965 -0.650687   \n",
       "2586     65.0      NaN  ...  0.056213  0.906888  0.783814 -0.447846 -0.371495   \n",
       "2587     69.0      NaN  ...  0.256007  0.442924  1.187314 -0.021923  0.768572   \n",
       "2588     69.0      NaN  ...  2.361239  1.093946 -1.461042  0.073004 -1.534257   \n",
       "\n",
       "       z_grind  z_st_ratio     z_age  z_ape_ratio  fights  \n",
       "0          NaN   -0.457772 -1.282854     0.907691    17.0  \n",
       "1          NaN   -0.349774 -0.182323    -0.379793    22.0  \n",
       "2          NaN   -0.764141  3.390778          NaN    23.0  \n",
       "2586  0.533514   -0.622730  1.167663     0.363415    11.0  \n",
       "2587 -0.343374   -0.235104 -1.290348     0.184593     8.0  \n",
       "2588       NaN   -0.557066  1.627098          NaN    31.0  \n",
       "\n",
       "[6 rows x 47 columns]"
      ]
     },
     "execution_count": 25,
     "metadata": {},
     "output_type": "execute_result"
    }
   ],
   "source": [
    "df = pd.read_csv('data/final.csv', parse_dates=['dob'])\n",
    "print(df.shape)\n",
    "df.ends(3)"
   ]
  },
  {
   "cell_type": "code",
   "execution_count": 26,
   "metadata": {
    "ExecuteTime": {
     "end_time": "2019-04-22T05:42:49.972918Z",
     "start_time": "2019-04-22T05:42:49.967391Z"
    }
   },
   "outputs": [
    {
     "data": {
      "text/plain": [
       "Index(['d', 'l', 'nc', 'w', 'association', 'country', 'dob', 'fname',\n",
       "       'height1', 'height2', 'lname', 'locality', 'name1', 'nick1', 'reach',\n",
       "       'sapm', 'slpm', 'stance', 'str_acc', 'str_def', 'sub_avg', 'td_acc',\n",
       "       'td_avg', 'td_def', 'weight1', 'eff', 'active', 'grind', 'ape_ratio',\n",
       "       'st_ratio', 'age', 'wc', 'w_pct', 'z_sapm', 'z_slpm', 'z_str_acc',\n",
       "       'z_str_def', 'z_td_acc', 'z_td_avg', 'z_td_def', 'z_eff', 'z_active',\n",
       "       'z_grind', 'z_st_ratio', 'z_age', 'z_ape_ratio', 'fights'],\n",
       "      dtype='object')"
      ]
     },
     "execution_count": 26,
     "metadata": {},
     "output_type": "execute_result"
    }
   ],
   "source": [
    "df.columns"
   ]
  },
  {
   "cell_type": "code",
   "execution_count": 94,
   "metadata": {
    "ExecuteTime": {
     "end_time": "2019-04-22T06:08:18.078190Z",
     "start_time": "2019-04-22T06:08:16.794674Z"
    }
   },
   "outputs": [
    {
     "data": {
      "image/png": "[encoded data removed]",
      "text/plain": [
       "<Figure size 576x288 with 1 Axes>"
      ]
     },
     "metadata": {
      "needs_background": "light"
     },
     "output_type": "display_data"
    }
   ],
   "source": [
    "q = .95\n",
    "tmp = df.loc[(df.slpm < df.slpm.quantile(q)) & \n",
    "             (df.sapm < df.sapm.quantile(q))]\n",
    "\n",
    "fig, ax = plt.subplots(figsize=(8, 4))\n",
    "sns.kdeplot(tmp.slpm, tmp.sapm, shade=True, ax=ax)\n",
    "plt.xlabel('Strikes Landed per Minute')\n",
    "plt.ylabel('Strikes Absorbed per Minute')\n",
    "plt.title('Strikes Landed vs. Strikes Absorbed')\n",
    "plt.show()"
   ]
  },
  {
   "cell_type": "code",
   "execution_count": 101,
   "metadata": {
    "ExecuteTime": {
     "end_time": "2019-04-22T06:10:55.872892Z",
     "start_time": "2019-04-22T06:10:55.653663Z"
    }
   },
   "outputs": [
    {
     "data": {
      "text/plain": [
       "<matplotlib.axes._subplots.AxesSubplot at 0x1a2ad989e8>"
      ]
     },
     "execution_count": 101,
     "metadata": {},
     "output_type": "execute_result"
    },
    {
     "data": {
      "image/png": "[encoded data removed]",
      "text/plain": [
       "<Figure size 432x288 with 1 Axes>"
      ]
     },
     "metadata": {
      "needs_background": "light"
     },
     "output_type": "display_data"
    }
   ],
   "source": [
    "diffs = (df.height1 - df.height2).dropna()\n",
    "diffs.plot.hist()"
   ]
  },
  {
   "cell_type": "code",
   "execution_count": 110,
   "metadata": {
    "ExecuteTime": {
     "end_time": "2019-04-22T06:13:07.033323Z",
     "start_time": "2019-04-22T06:13:06.804201Z"
    }
   },
   "outputs": [
    {
     "data": {
      "text/plain": [
       "<matplotlib.axes._subplots.AxesSubplot at 0x1a35e7d4e0>"
      ]
     },
     "execution_count": 110,
     "metadata": {},
     "output_type": "execute_result"
    },
    {
     "data": {
      "image/png": "[encoded data removed]",
      "text/plain": [
       "<Figure size 432x288 with 1 Axes>"
      ]
     },
     "metadata": {
      "needs_background": "light"
     },
     "output_type": "display_data"
    }
   ],
   "source": [
    "df.groupby('wc').height1.mean().sort_values().plot.bar()"
   ]
  },
  {
   "cell_type": "code",
   "execution_count": 96,
   "metadata": {
    "ExecuteTime": {
     "end_time": "2019-04-22T06:09:52.721123Z",
     "start_time": "2019-04-22T06:09:52.715544Z"
    }
   },
   "outputs": [
    {
     "data": {
      "text/plain": [
       "1318"
      ]
     },
     "execution_count": 96,
     "metadata": {},
     "output_type": "execute_result"
    }
   ],
   "source": [
    "df.height2.isnull().sum()"
   ]
  },
  {
   "cell_type": "code",
   "execution_count": null,
   "metadata": {},
   "outputs": [],
   "source": []
  }
 ],
 "metadata": {
  "kernelspec": {
   "display_name": "Python 3",
   "language": "python",
   "name": "python3"
  },
  "language_info": {
   "codemirror_mode": {
    "name": "ipython",
    "version": 3
   },
   "file_extension": ".py",
   "mimetype": "text/x-python",
   "name": "python",
   "nbconvert_exporter": "python",
   "pygments_lexer": "ipython3",
   "version": "3.6.8"
  }
 },
 "nbformat": 4,
 "nbformat_minor": 2
}
