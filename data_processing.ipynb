{
 "cells": [
  {
   "cell_type": "code",
   "execution_count": 386,
   "metadata": {
    "ExecuteTime": {
     "end_time": "2019-04-16T07:05:50.646188Z",
     "start_time": "2019-04-16T07:05:50.643080Z"
    }
   },
   "outputs": [],
   "source": [
    "import fuzzymatcher\n",
    "import matplotlib.pyplot as plt\n",
    "import numpy as np\n",
    "import pandas as pd"
   ]
  },
  {
   "cell_type": "code",
   "execution_count": 381,
   "metadata": {
    "ExecuteTime": {
     "end_time": "2019-04-16T07:03:49.903460Z",
     "start_time": "2019-04-16T07:03:49.898136Z"
    }
   },
   "outputs": [],
   "source": [
    "def fix_names(name):\n",
    "    return name.lower().replace('.', '').replace(' ', '_')\\\n",
    "               .replace('_left', '1').replace('_right', '2')"
   ]
  },
  {
   "cell_type": "code",
   "execution_count": 29,
   "metadata": {
    "ExecuteTime": {
     "end_time": "2019-04-15T05:48:23.971929Z",
     "start_time": "2019-04-15T05:48:23.874919Z"
    }
   },
   "outputs": [
    {
     "data": {
      "text/html": [
       "<div>\n",
       "<style scoped>\n",
       "    .dataframe tbody tr th:only-of-type {\n",
       "        vertical-align: middle;\n",
       "    }\n",
       "\n",
       "    .dataframe tbody tr th {\n",
       "        vertical-align: top;\n",
       "    }\n",
       "\n",
       "    .dataframe thead th {\n",
       "        text-align: right;\n",
       "    }\n",
       "</style>\n",
       "<table border=\"1\" class=\"dataframe\">\n",
       "  <thead>\n",
       "    <tr style=\"text-align: right;\">\n",
       "      <th></th>\n",
       "      <th>D</th>\n",
       "      <th>L</th>\n",
       "      <th>NC</th>\n",
       "      <th>W</th>\n",
       "      <th>dob</th>\n",
       "      <th>fname</th>\n",
       "      <th>height</th>\n",
       "      <th>lname</th>\n",
       "      <th>name</th>\n",
       "      <th>nick</th>\n",
       "      <th>...</th>\n",
       "      <th>sapm</th>\n",
       "      <th>slpm</th>\n",
       "      <th>stance</th>\n",
       "      <th>str. acc</th>\n",
       "      <th>str. def</th>\n",
       "      <th>sub. avg</th>\n",
       "      <th>td acc</th>\n",
       "      <th>td avg</th>\n",
       "      <th>td def</th>\n",
       "      <th>weight</th>\n",
       "    </tr>\n",
       "  </thead>\n",
       "  <tbody>\n",
       "    <tr>\n",
       "      <th>3244</th>\n",
       "      <td>0</td>\n",
       "      <td>2</td>\n",
       "      <td>NaN</td>\n",
       "      <td>11</td>\n",
       "      <td>1978-02-10</td>\n",
       "      <td>Jonathan</td>\n",
       "      <td>75.0</td>\n",
       "      <td>Wiezorek</td>\n",
       "      <td>Jonathan Wiezorek</td>\n",
       "      <td>NaN</td>\n",
       "      <td>...</td>\n",
       "      <td>5.47</td>\n",
       "      <td>1.27</td>\n",
       "      <td>Southpaw</td>\n",
       "      <td>0.58</td>\n",
       "      <td>0.31</td>\n",
       "      <td>0.0</td>\n",
       "      <td>0.20</td>\n",
       "      <td>1.91</td>\n",
       "      <td>0.0</td>\n",
       "      <td>250.0</td>\n",
       "    </tr>\n",
       "    <tr>\n",
       "      <th>3245</th>\n",
       "      <td>0</td>\n",
       "      <td>2</td>\n",
       "      <td>NaN</td>\n",
       "      <td>12</td>\n",
       "      <td>1981-07-29</td>\n",
       "      <td>Steve</td>\n",
       "      <td>71.0</td>\n",
       "      <td>Bosse</td>\n",
       "      <td>Steve Bosse</td>\n",
       "      <td>The Boss</td>\n",
       "      <td>...</td>\n",
       "      <td>5.38</td>\n",
       "      <td>5.99</td>\n",
       "      <td>Orthodox</td>\n",
       "      <td>0.52</td>\n",
       "      <td>0.50</td>\n",
       "      <td>0.0</td>\n",
       "      <td>0.33</td>\n",
       "      <td>0.92</td>\n",
       "      <td>1.0</td>\n",
       "      <td>205.0</td>\n",
       "    </tr>\n",
       "    <tr>\n",
       "      <th>3246</th>\n",
       "      <td>2</td>\n",
       "      <td>10</td>\n",
       "      <td>NaN</td>\n",
       "      <td>5</td>\n",
       "      <td>1976-07-11</td>\n",
       "      <td>Kenichi</td>\n",
       "      <td>72.0</td>\n",
       "      <td>Yamamoto</td>\n",
       "      <td>Kenichi Yamamoto</td>\n",
       "      <td>NaN</td>\n",
       "      <td>...</td>\n",
       "      <td>1.93</td>\n",
       "      <td>0.30</td>\n",
       "      <td>Orthodox</td>\n",
       "      <td>0.46</td>\n",
       "      <td>0.38</td>\n",
       "      <td>0.3</td>\n",
       "      <td>0.00</td>\n",
       "      <td>0.00</td>\n",
       "      <td>0.1</td>\n",
       "      <td>170.0</td>\n",
       "    </tr>\n",
       "  </tbody>\n",
       "</table>\n",
       "<p>3 rows × 21 columns</p>\n",
       "</div>"
      ],
      "text/plain": [
       "      D   L  NC   W        dob     fname  height     lname               name  \\\n",
       "3244  0   2 NaN  11 1978-02-10  Jonathan    75.0  Wiezorek  Jonathan Wiezorek   \n",
       "3245  0   2 NaN  12 1981-07-29     Steve    71.0     Bosse        Steve Bosse   \n",
       "3246  2  10 NaN   5 1976-07-11   Kenichi    72.0  Yamamoto   Kenichi Yamamoto   \n",
       "\n",
       "          nick  ...  sapm  slpm    stance str. acc  str. def  sub. avg  \\\n",
       "3244       NaN  ...  5.47  1.27  Southpaw     0.58      0.31       0.0   \n",
       "3245  The Boss  ...  5.38  5.99  Orthodox     0.52      0.50       0.0   \n",
       "3246       NaN  ...  1.93  0.30  Orthodox     0.46      0.38       0.3   \n",
       "\n",
       "      td acc  td avg  td def  weight  \n",
       "3244    0.20    1.91     0.0   250.0  \n",
       "3245    0.33    0.92     1.0   205.0  \n",
       "3246    0.00    0.00     0.1   170.0  \n",
       "\n",
       "[3 rows x 21 columns]"
      ]
     },
     "execution_count": 29,
     "metadata": {},
     "output_type": "execute_result"
    }
   ],
   "source": [
    "df = pd.read_csv('scrape.csv', parse_dates=['dob'])\n",
    "df.tail(3)"
   ]
  },
  {
   "cell_type": "code",
   "execution_count": 68,
   "metadata": {
    "ExecuteTime": {
     "end_time": "2019-04-15T05:58:34.211981Z",
     "start_time": "2019-04-15T05:58:34.043303Z"
    }
   },
   "outputs": [
    {
     "data": {
      "text/html": [
       "<div>\n",
       "<style scoped>\n",
       "    .dataframe tbody tr th:only-of-type {\n",
       "        vertical-align: middle;\n",
       "    }\n",
       "\n",
       "    .dataframe tbody tr th {\n",
       "        vertical-align: top;\n",
       "    }\n",
       "\n",
       "    .dataframe thead th {\n",
       "        text-align: right;\n",
       "    }\n",
       "</style>\n",
       "<table border=\"1\" class=\"dataframe\">\n",
       "  <thead>\n",
       "    <tr style=\"text-align: right;\">\n",
       "      <th></th>\n",
       "      <th>name</th>\n",
       "      <th>nick</th>\n",
       "      <th>birth_date</th>\n",
       "      <th>height</th>\n",
       "      <th>weight</th>\n",
       "      <th>association</th>\n",
       "      <th>class</th>\n",
       "      <th>locality</th>\n",
       "      <th>country</th>\n",
       "    </tr>\n",
       "  </thead>\n",
       "  <tbody>\n",
       "    <tr>\n",
       "      <th>1526</th>\n",
       "      <td>Ryan Parker</td>\n",
       "      <td>NaN</td>\n",
       "      <td>NaT</td>\n",
       "      <td>75.0</td>\n",
       "      <td>235.0</td>\n",
       "      <td>NaN</td>\n",
       "      <td>Heavyweight</td>\n",
       "      <td>Moorehead, Minnesota</td>\n",
       "      <td>United States</td>\n",
       "    </tr>\n",
       "    <tr>\n",
       "      <th>1527</th>\n",
       "      <td>Marcus Davis</td>\n",
       "      <td>The Irish Hand Grenade</td>\n",
       "      <td>1973-08-24</td>\n",
       "      <td>68.0</td>\n",
       "      <td>170.0</td>\n",
       "      <td>Team Irish</td>\n",
       "      <td>Welterweight</td>\n",
       "      <td>Bangor, Maine</td>\n",
       "      <td>United States</td>\n",
       "    </tr>\n",
       "    <tr>\n",
       "      <th>1528</th>\n",
       "      <td>John Alessio</td>\n",
       "      <td>The Natural</td>\n",
       "      <td>1979-07-05</td>\n",
       "      <td>70.0</td>\n",
       "      <td>155.0</td>\n",
       "      <td>Xtreme Couture</td>\n",
       "      <td>Lightweight</td>\n",
       "      <td>Vancouver, British Columbia</td>\n",
       "      <td>Canada</td>\n",
       "    </tr>\n",
       "  </tbody>\n",
       "</table>\n",
       "</div>"
      ],
      "text/plain": [
       "              name                    nick birth_date  height  weight  \\\n",
       "1526   Ryan Parker                     NaN        NaT    75.0   235.0   \n",
       "1527  Marcus Davis  The Irish Hand Grenade 1973-08-24    68.0   170.0   \n",
       "1528  John Alessio             The Natural 1979-07-05    70.0   155.0   \n",
       "\n",
       "         association         class                     locality        country  \n",
       "1526             NaN   Heavyweight         Moorehead, Minnesota  United States  \n",
       "1527      Team Irish  Welterweight                Bangor, Maine  United States  \n",
       "1528  Xtreme Couture   Lightweight  Vancouver, British Columbia         Canada  "
      ]
     },
     "execution_count": 68,
     "metadata": {},
     "output_type": "execute_result"
    }
   ],
   "source": [
    "df_names = pd.read_csv('sherdog.csv', parse_dates=['birth_date'])\\\n",
    "             .drop(['url', 'fid'], axis=1)\\\n",
    "             .drop_duplicates()\\\n",
    "             .reset_index(drop=True)\n",
    "df_names.tail(3)"
   ]
  },
  {
   "cell_type": "code",
   "execution_count": 155,
   "metadata": {
    "ExecuteTime": {
     "end_time": "2019-04-15T06:52:33.355207Z",
     "start_time": "2019-04-15T06:52:33.350109Z"
    }
   },
   "outputs": [
    {
     "data": {
      "text/plain": [
       "(2589, 21)"
      ]
     },
     "execution_count": 155,
     "metadata": {},
     "output_type": "execute_result"
    }
   ],
   "source": [
    "# Drop fighters with no stats.\n",
    "stats = (df['str. acc'] + df['str. def'] + df['sub. avg'] + df['td acc'] \n",
    "         + df['td avg'] + df['td def'])\n",
    "df = df[stats > 0]\n",
    "df.shape"
   ]
  },
  {
   "cell_type": "code",
   "execution_count": 328,
   "metadata": {
    "ExecuteTime": {
     "end_time": "2019-04-16T06:40:20.056472Z",
     "start_time": "2019-04-16T06:40:20.046046Z"
    }
   },
   "outputs": [],
   "source": [
    "df2 = fuzzymatcher.fuzzy_left_join(df, df_names, ['name'], ['name'])\n",
    "df2 = df2[df2.best_match_score > .3]"
   ]
  },
  {
   "cell_type": "code",
   "execution_count": 397,
   "metadata": {
    "ExecuteTime": {
     "end_time": "2019-04-16T07:12:05.597607Z",
     "start_time": "2019-04-16T07:12:05.594481Z"
    }
   },
   "outputs": [],
   "source": [
    "df.rename({'height': 'height_left',\n",
    "           'name': 'name_left',\n",
    "           'nick': 'nick_left',\n",
    "           'weight': 'weight_left'}, axis='columns', inplace=True)\n",
    "df3 = pd.concat((df2, df), axis=0).drop_duplicates(['fname', 'lname', 'dob'])"
   ]
  },
  {
   "cell_type": "code",
   "execution_count": 385,
   "metadata": {
    "ExecuteTime": {
     "end_time": "2019-04-16T07:05:22.456625Z",
     "start_time": "2019-04-16T07:05:22.451556Z"
    }
   },
   "outputs": [],
   "source": [
    "df3.drop(['left_id', 'right_id', 'best_match_score', 'name_right'], axis=1,\n",
    "          inplace=True)\n",
    "df3.rename(fix_names, axis=1, inplace=True)"
   ]
  },
  {
   "cell_type": "code",
   "execution_count": 396,
   "metadata": {
    "ExecuteTime": {
     "end_time": "2019-04-16T07:11:35.826582Z",
     "start_time": "2019-04-16T07:11:35.722539Z"
    }
   },
   "outputs": [],
   "source": [
    "df3.reset_index(drop=True, inplace=True)\n",
    "df3.to_csv('merged.csv', index=False)"
   ]
  }
 ],
 "metadata": {
  "kernelspec": {
   "display_name": "Python 3",
   "language": "python",
   "name": "python3"
  },
  "language_info": {
   "codemirror_mode": {
    "name": "ipython",
    "version": 3
   },
   "file_extension": ".py",
   "mimetype": "text/x-python",
   "name": "python",
   "nbconvert_exporter": "python",
   "pygments_lexer": "ipython3",
   "version": "3.6.8"
  }
 },
 "nbformat": 4,
 "nbformat_minor": 2
}
