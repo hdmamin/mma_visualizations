{
 "cells": [
  {
   "cell_type": "code",
   "execution_count": 2,
   "metadata": {
    "ExecuteTime": {
     "end_time": "2019-05-10T23:47:22.576214Z",
     "start_time": "2019-05-10T23:47:21.644564Z"
    }
   },
   "outputs": [],
   "source": [
    "import fuzzymatcher\n",
    "import matplotlib.pyplot as plt\n",
    "import numpy as np\n",
    "import pandas as pd"
   ]
  },
  {
   "cell_type": "code",
   "execution_count": 7,
   "metadata": {
    "ExecuteTime": {
     "end_time": "2019-05-10T23:47:56.716193Z",
     "start_time": "2019-05-10T23:47:56.708488Z"
    }
   },
   "outputs": [],
   "source": [
    "def fix_names(name):\n",
    "    return name.lower().replace('.', '').replace(' ', '_')\\\n",
    "               .replace('_left', '1').replace('_right', '2')"
   ]
  },
  {
   "cell_type": "code",
   "execution_count": 8,
   "metadata": {
    "ExecuteTime": {
     "end_time": "2019-05-10T23:47:57.085884Z",
     "start_time": "2019-05-10T23:47:57.041775Z"
    }
   },
   "outputs": [
    {
     "data": {
      "text/html": [
       "<div>\n",
       "<style scoped>\n",
       "    .dataframe tbody tr th:only-of-type {\n",
       "        vertical-align: middle;\n",
       "    }\n",
       "\n",
       "    .dataframe tbody tr th {\n",
       "        vertical-align: top;\n",
       "    }\n",
       "\n",
       "    .dataframe thead th {\n",
       "        text-align: right;\n",
       "    }\n",
       "</style>\n",
       "<table border=\"1\" class=\"dataframe\">\n",
       "  <thead>\n",
       "    <tr style=\"text-align: right;\">\n",
       "      <th></th>\n",
       "      <th>D</th>\n",
       "      <th>L</th>\n",
       "      <th>NC</th>\n",
       "      <th>W</th>\n",
       "      <th>dob</th>\n",
       "      <th>fname</th>\n",
       "      <th>height</th>\n",
       "      <th>lname</th>\n",
       "      <th>name</th>\n",
       "      <th>nick</th>\n",
       "      <th>...</th>\n",
       "      <th>sapm</th>\n",
       "      <th>slpm</th>\n",
       "      <th>stance</th>\n",
       "      <th>str. acc</th>\n",
       "      <th>str. def</th>\n",
       "      <th>sub. avg</th>\n",
       "      <th>td acc</th>\n",
       "      <th>td avg</th>\n",
       "      <th>td def</th>\n",
       "      <th>weight</th>\n",
       "    </tr>\n",
       "  </thead>\n",
       "  <tbody>\n",
       "    <tr>\n",
       "      <th>3244</th>\n",
       "      <td>0</td>\n",
       "      <td>2</td>\n",
       "      <td>NaN</td>\n",
       "      <td>11</td>\n",
       "      <td>1978-02-10</td>\n",
       "      <td>Jonathan</td>\n",
       "      <td>75.0</td>\n",
       "      <td>Wiezorek</td>\n",
       "      <td>Jonathan Wiezorek</td>\n",
       "      <td>NaN</td>\n",
       "      <td>...</td>\n",
       "      <td>5.47</td>\n",
       "      <td>1.27</td>\n",
       "      <td>Southpaw</td>\n",
       "      <td>0.58</td>\n",
       "      <td>0.31</td>\n",
       "      <td>0.0</td>\n",
       "      <td>0.20</td>\n",
       "      <td>1.91</td>\n",
       "      <td>0.0</td>\n",
       "      <td>250.0</td>\n",
       "    </tr>\n",
       "    <tr>\n",
       "      <th>3245</th>\n",
       "      <td>0</td>\n",
       "      <td>2</td>\n",
       "      <td>NaN</td>\n",
       "      <td>12</td>\n",
       "      <td>1981-07-29</td>\n",
       "      <td>Steve</td>\n",
       "      <td>71.0</td>\n",
       "      <td>Bosse</td>\n",
       "      <td>Steve Bosse</td>\n",
       "      <td>The Boss</td>\n",
       "      <td>...</td>\n",
       "      <td>5.38</td>\n",
       "      <td>5.99</td>\n",
       "      <td>Orthodox</td>\n",
       "      <td>0.52</td>\n",
       "      <td>0.50</td>\n",
       "      <td>0.0</td>\n",
       "      <td>0.33</td>\n",
       "      <td>0.92</td>\n",
       "      <td>1.0</td>\n",
       "      <td>205.0</td>\n",
       "    </tr>\n",
       "    <tr>\n",
       "      <th>3246</th>\n",
       "      <td>2</td>\n",
       "      <td>10</td>\n",
       "      <td>NaN</td>\n",
       "      <td>5</td>\n",
       "      <td>1976-07-11</td>\n",
       "      <td>Kenichi</td>\n",
       "      <td>72.0</td>\n",
       "      <td>Yamamoto</td>\n",
       "      <td>Kenichi Yamamoto</td>\n",
       "      <td>NaN</td>\n",
       "      <td>...</td>\n",
       "      <td>1.93</td>\n",
       "      <td>0.30</td>\n",
       "      <td>Orthodox</td>\n",
       "      <td>0.46</td>\n",
       "      <td>0.38</td>\n",
       "      <td>0.3</td>\n",
       "      <td>0.00</td>\n",
       "      <td>0.00</td>\n",
       "      <td>0.1</td>\n",
       "      <td>170.0</td>\n",
       "    </tr>\n",
       "  </tbody>\n",
       "</table>\n",
       "<p>3 rows × 21 columns</p>\n",
       "</div>"
      ],
      "text/plain": [
       "      D   L  NC   W        dob     fname  height     lname               name  \\\n",
       "3244  0   2 NaN  11 1978-02-10  Jonathan    75.0  Wiezorek  Jonathan Wiezorek   \n",
       "3245  0   2 NaN  12 1981-07-29     Steve    71.0     Bosse        Steve Bosse   \n",
       "3246  2  10 NaN   5 1976-07-11   Kenichi    72.0  Yamamoto   Kenichi Yamamoto   \n",
       "\n",
       "          nick  ...  sapm  slpm    stance str. acc  str. def  sub. avg  \\\n",
       "3244       NaN  ...  5.47  1.27  Southpaw     0.58      0.31       0.0   \n",
       "3245  The Boss  ...  5.38  5.99  Orthodox     0.52      0.50       0.0   \n",
       "3246       NaN  ...  1.93  0.30  Orthodox     0.46      0.38       0.3   \n",
       "\n",
       "      td acc  td avg  td def  weight  \n",
       "3244    0.20    1.91     0.0   250.0  \n",
       "3245    0.33    0.92     1.0   205.0  \n",
       "3246    0.00    0.00     0.1   170.0  \n",
       "\n",
       "[3 rows x 21 columns]"
      ]
     },
     "execution_count": 8,
     "metadata": {},
     "output_type": "execute_result"
    }
   ],
   "source": [
    "df = pd.read_csv('data/scrape.csv', parse_dates=['dob'])\n",
    "df.tail(3)"
   ]
  },
  {
   "cell_type": "code",
   "execution_count": 9,
   "metadata": {
    "ExecuteTime": {
     "end_time": "2019-05-10T23:47:57.751357Z",
     "start_time": "2019-05-10T23:47:57.576351Z"
    }
   },
   "outputs": [
    {
     "data": {
      "text/html": [
       "<div>\n",
       "<style scoped>\n",
       "    .dataframe tbody tr th:only-of-type {\n",
       "        vertical-align: middle;\n",
       "    }\n",
       "\n",
       "    .dataframe tbody tr th {\n",
       "        vertical-align: top;\n",
       "    }\n",
       "\n",
       "    .dataframe thead th {\n",
       "        text-align: right;\n",
       "    }\n",
       "</style>\n",
       "<table border=\"1\" class=\"dataframe\">\n",
       "  <thead>\n",
       "    <tr style=\"text-align: right;\">\n",
       "      <th></th>\n",
       "      <th>name</th>\n",
       "      <th>nick</th>\n",
       "      <th>birth_date</th>\n",
       "      <th>height</th>\n",
       "      <th>weight</th>\n",
       "      <th>association</th>\n",
       "      <th>class</th>\n",
       "      <th>locality</th>\n",
       "      <th>country</th>\n",
       "    </tr>\n",
       "  </thead>\n",
       "  <tbody>\n",
       "    <tr>\n",
       "      <th>1526</th>\n",
       "      <td>Ryan Parker</td>\n",
       "      <td>NaN</td>\n",
       "      <td>NaT</td>\n",
       "      <td>75.0</td>\n",
       "      <td>235.0</td>\n",
       "      <td>NaN</td>\n",
       "      <td>Heavyweight</td>\n",
       "      <td>Moorehead, Minnesota</td>\n",
       "      <td>United States</td>\n",
       "    </tr>\n",
       "    <tr>\n",
       "      <th>1527</th>\n",
       "      <td>Marcus Davis</td>\n",
       "      <td>The Irish Hand Grenade</td>\n",
       "      <td>1973-08-24</td>\n",
       "      <td>68.0</td>\n",
       "      <td>170.0</td>\n",
       "      <td>Team Irish</td>\n",
       "      <td>Welterweight</td>\n",
       "      <td>Bangor, Maine</td>\n",
       "      <td>United States</td>\n",
       "    </tr>\n",
       "    <tr>\n",
       "      <th>1528</th>\n",
       "      <td>John Alessio</td>\n",
       "      <td>The Natural</td>\n",
       "      <td>1979-07-05</td>\n",
       "      <td>70.0</td>\n",
       "      <td>155.0</td>\n",
       "      <td>Xtreme Couture</td>\n",
       "      <td>Lightweight</td>\n",
       "      <td>Vancouver, British Columbia</td>\n",
       "      <td>Canada</td>\n",
       "    </tr>\n",
       "  </tbody>\n",
       "</table>\n",
       "</div>"
      ],
      "text/plain": [
       "              name                    nick birth_date  height  weight  \\\n",
       "1526   Ryan Parker                     NaN        NaT    75.0   235.0   \n",
       "1527  Marcus Davis  The Irish Hand Grenade 1973-08-24    68.0   170.0   \n",
       "1528  John Alessio             The Natural 1979-07-05    70.0   155.0   \n",
       "\n",
       "         association         class                     locality        country  \n",
       "1526             NaN   Heavyweight         Moorehead, Minnesota  United States  \n",
       "1527      Team Irish  Welterweight                Bangor, Maine  United States  \n",
       "1528  Xtreme Couture   Lightweight  Vancouver, British Columbia         Canada  "
      ]
     },
     "execution_count": 9,
     "metadata": {},
     "output_type": "execute_result"
    }
   ],
   "source": [
    "df_names = pd.read_csv('data/sherdog.csv', parse_dates=['birth_date'])\\\n",
    "             .drop(['url', 'fid'], axis=1)\\\n",
    "             .drop_duplicates()\\\n",
    "             .reset_index(drop=True)\n",
    "df_names.tail(3)"
   ]
  },
  {
   "cell_type": "code",
   "execution_count": 10,
   "metadata": {
    "ExecuteTime": {
     "end_time": "2019-05-10T23:47:59.106071Z",
     "start_time": "2019-05-10T23:47:58.312838Z"
    }
   },
   "outputs": [
    {
     "data": {
      "text/plain": [
       "(2589, 21)"
      ]
     },
     "execution_count": 10,
     "metadata": {},
     "output_type": "execute_result"
    }
   ],
   "source": [
    "# Drop fighters with no stats.\n",
    "stats = (df['str. acc'] + df['str. def'] + df['sub. avg'] + df['td acc'] \n",
    "         + df['td avg'] + df['td def'])\n",
    "df = df[stats > 0]\n",
    "df.shape"
   ]
  },
  {
   "cell_type": "code",
   "execution_count": 11,
   "metadata": {
    "ExecuteTime": {
     "end_time": "2019-05-10T23:48:05.154485Z",
     "start_time": "2019-05-10T23:48:00.380645Z"
    }
   },
   "outputs": [],
   "source": [
    "df2 = fuzzymatcher.fuzzy_left_join(df, df_names, ['name'], ['name'])\n",
    "df2 = df2[df2.best_match_score > .3]"
   ]
  },
  {
   "cell_type": "code",
   "execution_count": 12,
   "metadata": {
    "ExecuteTime": {
     "end_time": "2019-05-10T23:48:06.323533Z",
     "start_time": "2019-05-10T23:48:06.235386Z"
    }
   },
   "outputs": [
    {
     "name": "stderr",
     "output_type": "stream",
     "text": [
      "/anaconda3/lib/python3.6/site-packages/ipykernel_launcher.py:5: FutureWarning: Sorting because non-concatenation axis is not aligned. A future version\n",
      "of pandas will change to not sort by default.\n",
      "\n",
      "To accept the future behavior, pass 'sort=False'.\n",
      "\n",
      "To retain the current behavior and silence the warning, pass 'sort=True'.\n",
      "\n",
      "  \"\"\"\n"
     ]
    }
   ],
   "source": [
    "df.rename({'height': 'height_left',\n",
    "           'name': 'name_left',\n",
    "           'nick': 'nick_left',\n",
    "           'weight': 'weight_left'}, axis='columns', inplace=True)\n",
    "df3 = pd.concat((df2, df), axis=0).drop_duplicates(['fname', 'lname', 'dob'])"
   ]
  },
  {
   "cell_type": "code",
   "execution_count": 14,
   "metadata": {
    "ExecuteTime": {
     "end_time": "2019-05-10T23:48:21.635885Z",
     "start_time": "2019-05-10T23:48:21.630288Z"
    }
   },
   "outputs": [],
   "source": [
    "# df3.drop(['left_id', 'right_id', 'best_match_score', 'name_right'], axis=1,\n",
    "#           inplace=True)\n",
    "# df3.rename(fix_names, axis=1, inplace=True)"
   ]
  },
  {
   "cell_type": "code",
   "execution_count": 396,
   "metadata": {
    "ExecuteTime": {
     "end_time": "2019-04-16T07:11:35.826582Z",
     "start_time": "2019-04-16T07:11:35.722539Z"
    }
   },
   "outputs": [],
   "source": [
    "df3.reset_index(drop=True, inplace=True)\n",
    "df3.to_csv('data/merged.csv', index=False)"
   ]
  },
  {
   "cell_type": "markdown",
   "metadata": {},
   "source": [
    "### Fights df"
   ]
  },
  {
   "cell_type": "code",
   "execution_count": 16,
   "metadata": {
    "ExecuteTime": {
     "end_time": "2019-05-10T23:48:36.331187Z",
     "start_time": "2019-05-10T23:48:36.269154Z"
    }
   },
   "outputs": [
    {
     "data": {
      "text/html": [
       "<div>\n",
       "<style scoped>\n",
       "    .dataframe tbody tr th:only-of-type {\n",
       "        vertical-align: middle;\n",
       "    }\n",
       "\n",
       "    .dataframe tbody tr th {\n",
       "        vertical-align: top;\n",
       "    }\n",
       "\n",
       "    .dataframe thead th {\n",
       "        text-align: right;\n",
       "    }\n",
       "</style>\n",
       "<table border=\"1\" class=\"dataframe\">\n",
       "  <thead>\n",
       "    <tr style=\"text-align: right;\">\n",
       "      <th></th>\n",
       "      <th>pageurl</th>\n",
       "      <th>eid</th>\n",
       "      <th>mid</th>\n",
       "      <th>event_name</th>\n",
       "      <th>event_org</th>\n",
       "      <th>event_date</th>\n",
       "      <th>event_place</th>\n",
       "      <th>f1pageurl</th>\n",
       "      <th>f2pageurl</th>\n",
       "      <th>f1name</th>\n",
       "      <th>...</th>\n",
       "      <th>f1result</th>\n",
       "      <th>f2result</th>\n",
       "      <th>f1fid</th>\n",
       "      <th>f2fid</th>\n",
       "      <th>method</th>\n",
       "      <th>method_d</th>\n",
       "      <th>ref</th>\n",
       "      <th>round</th>\n",
       "      <th>time</th>\n",
       "      <th>location</th>\n",
       "    </tr>\n",
       "  </thead>\n",
       "  <tbody>\n",
       "    <tr>\n",
       "      <th>3566</th>\n",
       "      <td>/events/UFC-Fight-Night-83-Cerrone-vs-Oliveira...</td>\n",
       "      <td>47935</td>\n",
       "      <td>3</td>\n",
       "      <td>UFC Fight Night 83 - Cerrone vs. Oliveira</td>\n",
       "      <td>Ultimate Fighting Championship</td>\n",
       "      <td>2/21/2016</td>\n",
       "      <td>Consol Energy Center, Pittsburgh, Pennsylvania...</td>\n",
       "      <td>/fighter/Ashlee-EvansSmith-75021</td>\n",
       "      <td>/fighter/Marion-Reneau-61266</td>\n",
       "      <td>Ashlee Evans-Smith</td>\n",
       "      <td>...</td>\n",
       "      <td>win</td>\n",
       "      <td>loss</td>\n",
       "      <td>75021</td>\n",
       "      <td>61266</td>\n",
       "      <td>Decision</td>\n",
       "      <td>Split</td>\n",
       "      <td>James Chappell</td>\n",
       "      <td>3</td>\n",
       "      <td>5:00</td>\n",
       "      <td>Pittsburgh,  Pennsylvania,  United States</td>\n",
       "    </tr>\n",
       "    <tr>\n",
       "      <th>3567</th>\n",
       "      <td>/events/UFC-Fight-Night-83-Cerrone-vs-Oliveira...</td>\n",
       "      <td>47935</td>\n",
       "      <td>2</td>\n",
       "      <td>UFC Fight Night 83 - Cerrone vs. Oliveira</td>\n",
       "      <td>Ultimate Fighting Championship</td>\n",
       "      <td>2/21/2016</td>\n",
       "      <td>Consol Energy Center, Pittsburgh, Pennsylvania...</td>\n",
       "      <td>/fighter/Lauren-Murphy-66725</td>\n",
       "      <td>/fighter/Kelly-Faszholz-117453</td>\n",
       "      <td>Lauren Murphy</td>\n",
       "      <td>...</td>\n",
       "      <td>win</td>\n",
       "      <td>loss</td>\n",
       "      <td>66725</td>\n",
       "      <td>117453</td>\n",
       "      <td>TKO</td>\n",
       "      <td>Elbows and Punches</td>\n",
       "      <td>Bill Bookwalter</td>\n",
       "      <td>3</td>\n",
       "      <td>4:55</td>\n",
       "      <td>Pittsburgh,  Pennsylvania,  United States</td>\n",
       "    </tr>\n",
       "    <tr>\n",
       "      <th>3568</th>\n",
       "      <td>/events/UFC-Fight-Night-83-Cerrone-vs-Oliveira...</td>\n",
       "      <td>47935</td>\n",
       "      <td>1</td>\n",
       "      <td>UFC Fight Night 83 - Cerrone vs. Oliveira</td>\n",
       "      <td>Ultimate Fighting Championship</td>\n",
       "      <td>2/21/2016</td>\n",
       "      <td>Consol Energy Center, Pittsburgh, Pennsylvania...</td>\n",
       "      <td>/fighter/Shamil-Abdurakhimov-26808</td>\n",
       "      <td>/fighter/Anthony-Hamilton-58947</td>\n",
       "      <td>Shamil Abdurakhimov</td>\n",
       "      <td>...</td>\n",
       "      <td>win</td>\n",
       "      <td>loss</td>\n",
       "      <td>26808</td>\n",
       "      <td>58947</td>\n",
       "      <td>Decision</td>\n",
       "      <td>Unanimous</td>\n",
       "      <td>Chip Snider</td>\n",
       "      <td>3</td>\n",
       "      <td>5:00</td>\n",
       "      <td>Pittsburgh,  Pennsylvania,  United States</td>\n",
       "    </tr>\n",
       "  </tbody>\n",
       "</table>\n",
       "<p>3 rows × 21 columns</p>\n",
       "</div>"
      ],
      "text/plain": [
       "                                                pageurl    eid  mid  \\\n",
       "3566  /events/UFC-Fight-Night-83-Cerrone-vs-Oliveira...  47935    3   \n",
       "3567  /events/UFC-Fight-Night-83-Cerrone-vs-Oliveira...  47935    2   \n",
       "3568  /events/UFC-Fight-Night-83-Cerrone-vs-Oliveira...  47935    1   \n",
       "\n",
       "                                     event_name  \\\n",
       "3566  UFC Fight Night 83 - Cerrone vs. Oliveira   \n",
       "3567  UFC Fight Night 83 - Cerrone vs. Oliveira   \n",
       "3568  UFC Fight Night 83 - Cerrone vs. Oliveira   \n",
       "\n",
       "                           event_org event_date  \\\n",
       "3566  Ultimate Fighting Championship  2/21/2016   \n",
       "3567  Ultimate Fighting Championship  2/21/2016   \n",
       "3568  Ultimate Fighting Championship  2/21/2016   \n",
       "\n",
       "                                            event_place  \\\n",
       "3566  Consol Energy Center, Pittsburgh, Pennsylvania...   \n",
       "3567  Consol Energy Center, Pittsburgh, Pennsylvania...   \n",
       "3568  Consol Energy Center, Pittsburgh, Pennsylvania...   \n",
       "\n",
       "                               f1pageurl                        f2pageurl  \\\n",
       "3566    /fighter/Ashlee-EvansSmith-75021     /fighter/Marion-Reneau-61266   \n",
       "3567        /fighter/Lauren-Murphy-66725   /fighter/Kelly-Faszholz-117453   \n",
       "3568  /fighter/Shamil-Abdurakhimov-26808  /fighter/Anthony-Hamilton-58947   \n",
       "\n",
       "                   f1name  ... f1result f2result  f1fid   f2fid    method  \\\n",
       "3566   Ashlee Evans-Smith  ...      win     loss  75021   61266  Decision   \n",
       "3567        Lauren Murphy  ...      win     loss  66725  117453       TKO   \n",
       "3568  Shamil Abdurakhimov  ...      win     loss  26808   58947  Decision   \n",
       "\n",
       "                method_d              ref round  time  \\\n",
       "3566               Split   James Chappell     3  5:00   \n",
       "3567  Elbows and Punches  Bill Bookwalter     3  4:55   \n",
       "3568           Unanimous      Chip Snider     3  5:00   \n",
       "\n",
       "                                        location  \n",
       "3566   Pittsburgh,  Pennsylvania,  United States  \n",
       "3567   Pittsburgh,  Pennsylvania,  United States  \n",
       "3568   Pittsburgh,  Pennsylvania,  United States  \n",
       "\n",
       "[3 rows x 21 columns]"
      ]
     },
     "execution_count": 16,
     "metadata": {},
     "output_type": "execute_result"
    }
   ],
   "source": [
    "fights = pd.read_csv('data/fights.csv')\n",
    "fights.tail(3)"
   ]
  },
  {
   "cell_type": "code",
   "execution_count": 17,
   "metadata": {
    "ExecuteTime": {
     "end_time": "2019-05-10T23:48:39.288503Z",
     "start_time": "2019-05-10T23:48:39.265074Z"
    }
   },
   "outputs": [],
   "source": [
    "tmp = df_names[['name', 'locality', 'country']]\n",
    "fights = fights.merge(tmp, how='left', left_on='f1name', right_on='name')\\\n",
    "               .merge(tmp, how='left', left_on='f2name', right_on='name', \n",
    "                      suffixes=('_1', '_2'))"
   ]
  },
  {
   "cell_type": "code",
   "execution_count": 19,
   "metadata": {
    "ExecuteTime": {
     "end_time": "2019-05-10T23:48:50.783140Z",
     "start_time": "2019-05-10T23:48:50.676271Z"
    }
   },
   "outputs": [],
   "source": [
    "fights.to_csv('data/fights_merged.csv', index=False)"
   ]
  }
 ],
 "metadata": {
  "kernelspec": {
   "display_name": "Python 3",
   "language": "python",
   "name": "python3"
  },
  "language_info": {
   "codemirror_mode": {
    "name": "ipython",
    "version": 3
   },
   "file_extension": ".py",
   "mimetype": "text/x-python",
   "name": "python",
   "nbconvert_exporter": "python",
   "pygments_lexer": "ipython3",
   "version": "3.6.8"
  }
 },
 "nbformat": 4,
 "nbformat_minor": 2
}
