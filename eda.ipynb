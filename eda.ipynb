{
 "cells": [
  {
   "cell_type": "code",
   "execution_count": 522,
   "metadata": {
    "ExecuteTime": {
     "end_time": "2019-04-22T05:05:20.758468Z",
     "start_time": "2019-04-22T05:05:20.753932Z"
    }
   },
   "outputs": [],
   "source": [
    "import datetime\n",
    "from functools import partial\n",
    "import matplotlib.pyplot as plt\n",
    "import numpy as np\n",
    "import pandas as pd\n",
    "from scipy.stats import iqr"
   ]
  },
  {
   "cell_type": "code",
   "execution_count": 561,
   "metadata": {
    "ExecuteTime": {
     "end_time": "2019-04-22T05:38:39.757371Z",
     "start_time": "2019-04-22T05:38:39.729759Z"
    }
   },
   "outputs": [],
   "source": [
    "def ends(df, n):\n",
    "    \"\"\"Show both head and tail of a pandas series or dataframe.\n",
    "    \n",
    "    Parameters\n",
    "    -----------\n",
    "    n: int\n",
    "        # of rows to display in head and tail, respectively (i.e. the total\n",
    "        # of rows displayed will be 2*n).\n",
    "    \"\"\"\n",
    "    return pd.concat([df.head(n), df.tail(n)], axis=0)"
   ]
  },
  {
   "cell_type": "code",
   "execution_count": 524,
   "metadata": {
    "ExecuteTime": {
     "end_time": "2019-04-22T05:05:20.776985Z",
     "start_time": "2019-04-22T05:05:20.771110Z"
    }
   },
   "outputs": [],
   "source": [
    "def top_cats(df, col, cats=None, val=None):\n",
    "    \"\"\"Filter a df to only include the most common categories.\n",
    "    \n",
    "    Parameters\n",
    "    -----------\n",
    "    cats: int\n",
    "        Optional - # of categories to include (i.e. top 5 most common\n",
    "        categories).\n",
    "    val: int\n",
    "        Optional - Value count threshold to include (i.e. all categories that\n",
    "        occur at least 10 times).\n",
    "    \"\"\"\n",
    "    if cats is not None:\n",
    "        top = df[col].value_counts(ascending=False).head(cats).index\n",
    "        return df[df[col].isin(top)]\n",
    "    if val is not None:\n",
    "        return df.groupby(col).filter(lambda x: len(x) >= val)"
   ]
  },
  {
   "cell_type": "code",
   "execution_count": 560,
   "metadata": {
    "ExecuteTime": {
     "end_time": "2019-04-22T05:09:59.772888Z",
     "start_time": "2019-04-22T05:09:59.767459Z"
    }
   },
   "outputs": [],
   "source": [
    "def wc_normalize(df, col, gb, robust=False):\n",
    "    \"\"\"Normalize stats by weightclass.\n",
    "    \n",
    "    Parameters\n",
    "    -----------\n",
    "    df: pd.DataFrame\n",
    "        Dataframe containing column to normalize.\n",
    "    col: str\n",
    "        Name of column to normalize.\n",
    "    gb: pd.DataFrame\n",
    "        Pandas groupby object.\n",
    "    robust: bool\n",
    "        If False, use mean and standard deviation to scale. If True, use \n",
    "        median and IQR.\n",
    "    \"\"\"\n",
    "    center = 'median'\n",
    "    spread = 'iqr'\n",
    "    if not robust:\n",
    "        center = 'mean'\n",
    "        spread = 'std'\n",
    "    meds = gb.loc[:][col][center]\n",
    "    iqrs = gb.loc[:][col][spread]\n",
    "    return (df[col] - df.wc.map(meds)) / df.wc.map(iqrs)"
   ]
  },
  {
   "cell_type": "code",
   "execution_count": 526,
   "metadata": {
    "ExecuteTime": {
     "end_time": "2019-04-22T05:05:20.791597Z",
     "start_time": "2019-04-22T05:05:20.787998Z"
    }
   },
   "outputs": [],
   "source": [
    "iqr_ = partial(iqr, nan_policy='omit')"
   ]
  },
  {
   "cell_type": "markdown",
   "metadata": {},
   "source": [
    "## Load Data"
   ]
  },
  {
   "cell_type": "code",
   "execution_count": 527,
   "metadata": {
    "ExecuteTime": {
     "end_time": "2019-04-22T05:05:20.799211Z",
     "start_time": "2019-04-22T05:05:20.795108Z"
    }
   },
   "outputs": [],
   "source": [
    "pd.DataFrame.ends = ends\n",
    "pd.Series.ends = ends"
   ]
  },
  {
   "cell_type": "code",
   "execution_count": 528,
   "metadata": {
    "ExecuteTime": {
     "end_time": "2019-04-22T05:05:20.871706Z",
     "start_time": "2019-04-22T05:05:20.802303Z"
    }
   },
   "outputs": [
    {
     "name": "stdout",
     "output_type": "stream",
     "text": [
      "(2589, 29)\n"
     ]
    },
    {
     "data": {
      "text/html": [
       "<div>\n",
       "<style scoped>\n",
       "    .dataframe tbody tr th:only-of-type {\n",
       "        vertical-align: middle;\n",
       "    }\n",
       "\n",
       "    .dataframe tbody tr th {\n",
       "        vertical-align: top;\n",
       "    }\n",
       "\n",
       "    .dataframe thead th {\n",
       "        text-align: right;\n",
       "    }\n",
       "</style>\n",
       "<table border=\"1\" class=\"dataframe\">\n",
       "  <thead>\n",
       "    <tr style=\"text-align: right;\">\n",
       "      <th></th>\n",
       "      <th>d</th>\n",
       "      <th>l</th>\n",
       "      <th>nc</th>\n",
       "      <th>w</th>\n",
       "      <th>association</th>\n",
       "      <th>birth_date</th>\n",
       "      <th>class</th>\n",
       "      <th>country</th>\n",
       "      <th>dob</th>\n",
       "      <th>fname</th>\n",
       "      <th>...</th>\n",
       "      <th>slpm</th>\n",
       "      <th>stance</th>\n",
       "      <th>str_acc</th>\n",
       "      <th>str_def</th>\n",
       "      <th>sub_avg</th>\n",
       "      <th>td_acc</th>\n",
       "      <th>td_avg</th>\n",
       "      <th>td_def</th>\n",
       "      <th>weight1</th>\n",
       "      <th>weight2</th>\n",
       "    </tr>\n",
       "  </thead>\n",
       "  <tbody>\n",
       "    <tr>\n",
       "      <th>0</th>\n",
       "      <td>0</td>\n",
       "      <td>4</td>\n",
       "      <td>NaN</td>\n",
       "      <td>13</td>\n",
       "      <td>The Kennel Fight Club</td>\n",
       "      <td>1989-09-22</td>\n",
       "      <td>Light Heavyweight</td>\n",
       "      <td>United States</td>\n",
       "      <td>1989-09-22</td>\n",
       "      <td>Corey</td>\n",
       "      <td>...</td>\n",
       "      <td>4.37</td>\n",
       "      <td>Orthodox</td>\n",
       "      <td>0.46</td>\n",
       "      <td>0.59</td>\n",
       "      <td>0.0</td>\n",
       "      <td>0.50</td>\n",
       "      <td>4.96</td>\n",
       "      <td>0.83</td>\n",
       "      <td>205.0</td>\n",
       "      <td>205.0</td>\n",
       "    </tr>\n",
       "    <tr>\n",
       "      <th>1</th>\n",
       "      <td>0</td>\n",
       "      <td>4</td>\n",
       "      <td>NaN</td>\n",
       "      <td>18</td>\n",
       "      <td>Jackson-Wink MMA</td>\n",
       "      <td>1984-09-20</td>\n",
       "      <td>Lightweight</td>\n",
       "      <td>United States</td>\n",
       "      <td>1984-09-20</td>\n",
       "      <td>Quinn</td>\n",
       "      <td>...</td>\n",
       "      <td>1.48</td>\n",
       "      <td>Orthodox</td>\n",
       "      <td>0.28</td>\n",
       "      <td>0.51</td>\n",
       "      <td>0.0</td>\n",
       "      <td>0.20</td>\n",
       "      <td>1.36</td>\n",
       "      <td>0.33</td>\n",
       "      <td>155.0</td>\n",
       "      <td>155.0</td>\n",
       "    </tr>\n",
       "    <tr>\n",
       "      <th>2</th>\n",
       "      <td>0</td>\n",
       "      <td>3</td>\n",
       "      <td>NaN</td>\n",
       "      <td>20</td>\n",
       "      <td>Wand Fight Team</td>\n",
       "      <td>1969-10-31</td>\n",
       "      <td>Bantamweight</td>\n",
       "      <td>United States</td>\n",
       "      <td>1969-10-31</td>\n",
       "      <td>Jason</td>\n",
       "      <td>...</td>\n",
       "      <td>0.51</td>\n",
       "      <td>Orthodox</td>\n",
       "      <td>0.40</td>\n",
       "      <td>0.43</td>\n",
       "      <td>0.0</td>\n",
       "      <td>0.12</td>\n",
       "      <td>1.91</td>\n",
       "      <td>0.50</td>\n",
       "      <td>135.0</td>\n",
       "      <td>135.0</td>\n",
       "    </tr>\n",
       "  </tbody>\n",
       "</table>\n",
       "<p>3 rows × 29 columns</p>\n",
       "</div>"
      ],
      "text/plain": [
       "   d  l  nc   w            association birth_date              class  \\\n",
       "0  0  4 NaN  13  The Kennel Fight Club 1989-09-22  Light Heavyweight   \n",
       "1  0  4 NaN  18       Jackson-Wink MMA 1984-09-20        Lightweight   \n",
       "2  0  3 NaN  20        Wand Fight Team 1969-10-31       Bantamweight   \n",
       "\n",
       "         country        dob  fname  ...  slpm    stance str_acc str_def  \\\n",
       "0  United States 1989-09-22  Corey  ...  4.37  Orthodox    0.46    0.59   \n",
       "1  United States 1984-09-20  Quinn  ...  1.48  Orthodox    0.28    0.51   \n",
       "2  United States 1969-10-31  Jason  ...  0.51  Orthodox    0.40    0.43   \n",
       "\n",
       "  sub_avg td_acc td_avg  td_def  weight1  weight2  \n",
       "0     0.0   0.50   4.96    0.83    205.0    205.0  \n",
       "1     0.0   0.20   1.36    0.33    155.0    155.0  \n",
       "2     0.0   0.12   1.91    0.50    135.0    135.0  \n",
       "\n",
       "[3 rows x 29 columns]"
      ]
     },
     "execution_count": 528,
     "metadata": {},
     "output_type": "execute_result"
    }
   ],
   "source": [
    "df = pd.read_csv('merged.csv', parse_dates=['dob', 'birth_date'])\n",
    "print(df.shape)\n",
    "df.head(3)"
   ]
  },
  {
   "cell_type": "code",
   "execution_count": 529,
   "metadata": {
    "ExecuteTime": {
     "end_time": "2019-04-22T05:05:20.879550Z",
     "start_time": "2019-04-22T05:05:20.874015Z"
    }
   },
   "outputs": [
    {
     "data": {
      "text/plain": [
       "Index(['d', 'l', 'nc', 'w', 'association', 'birth_date', 'class', 'country',\n",
       "       'dob', 'fname', 'height1', 'height2', 'lname', 'locality', 'name1',\n",
       "       'nick1', 'nick2', 'reach', 'sapm', 'slpm', 'stance', 'str_acc',\n",
       "       'str_def', 'sub_avg', 'td_acc', 'td_avg', 'td_def', 'weight1',\n",
       "       'weight2'],\n",
       "      dtype='object')"
      ]
     },
     "execution_count": 529,
     "metadata": {},
     "output_type": "execute_result"
    }
   ],
   "source": [
    "df.columns"
   ]
  },
  {
   "cell_type": "code",
   "execution_count": 530,
   "metadata": {
    "ExecuteTime": {
     "end_time": "2019-04-22T05:05:20.891317Z",
     "start_time": "2019-04-22T05:05:20.881469Z"
    }
   },
   "outputs": [
    {
     "data": {
      "text/plain": [
       "d                 0\n",
       "l                 0\n",
       "nc             2231\n",
       "w                 0\n",
       "association    1364\n",
       "birth_date     1400\n",
       "class          1303\n",
       "country        1298\n",
       "dob             325\n",
       "fname             0\n",
       "height1          69\n",
       "height2        1318\n",
       "lname             0\n",
       "locality       1323\n",
       "name1             0\n",
       "nick1          1013\n",
       "nick2          1658\n",
       "reach          1079\n",
       "sapm              0\n",
       "slpm              0\n",
       "stance          382\n",
       "str_acc           0\n",
       "str_def           0\n",
       "sub_avg           0\n",
       "td_acc            0\n",
       "td_avg            0\n",
       "td_def            0\n",
       "weight1          11\n",
       "weight2        1298\n",
       "dtype: int64"
      ]
     },
     "execution_count": 530,
     "metadata": {},
     "output_type": "execute_result"
    }
   ],
   "source": [
    "df.isnull().sum()"
   ]
  },
  {
   "cell_type": "code",
   "execution_count": 531,
   "metadata": {
    "ExecuteTime": {
     "end_time": "2019-04-22T05:05:20.897241Z",
     "start_time": "2019-04-22T05:05:20.893044Z"
    }
   },
   "outputs": [],
   "source": [
    "# Label weight classes.\n",
    "bins = [0, 115, 125, 135, 145, 155, 170, 185, 205, 265, 400]\n",
    "classes = ['sw', 'flw', 'bw', 'fw', 'lw', 'ww', 'mw', 'lhw', 'hw', 'shw']"
   ]
  },
  {
   "cell_type": "code",
   "execution_count": 532,
   "metadata": {
    "ExecuteTime": {
     "end_time": "2019-04-22T05:05:20.921406Z",
     "start_time": "2019-04-22T05:05:20.900752Z"
    }
   },
   "outputs": [],
   "source": [
    "# Striking efficiency (landed to absorbed ratio)\n",
    "df['eff'] = (df.slpm / df.sapm).replace(np.inf, np.nan)\n",
    "# Strikes landed + absorbed per minute\n",
    "df['active'] = df.slpm + df.sapm\n",
    "# Takedowns per submission attempt\n",
    "df['grind'] = (df.td_avg / df.sub_avg).replace(np.inf, np.nan)\n",
    "# Long reach relative to height\n",
    "df['ape_ratio'] = (df.reach / df.height1).replace(np.inf, np.nan)\n",
    "# Strikes to takedowns ratio\n",
    "df['st_ratio'] = (df.slpm*15 / df.td_avg).replace(np.inf, np.nan)\n",
    "# Age\n",
    "df['age'] = (pd.to_datetime('today') - df.dob).dt.days / 365\n",
    "# Weight class name from numeric weight.\n",
    "df['wc'] = pd.cut(df.weight1, bins=bins, right=True, include_lowest=False,\n",
    "                  labels=classes)\n",
    "# No Contests excluded from winning % calculations.\n",
    "df['w_pct'] = df.w / (df.w + df.l + df.d)\n",
    "# Total number of fights.\n",
    "df['fights'] = df.w + df.l + df.d + df.nc"
   ]
  },
  {
   "cell_type": "code",
   "execution_count": 533,
   "metadata": {
    "ExecuteTime": {
     "end_time": "2019-04-22T05:05:20.928293Z",
     "start_time": "2019-04-22T05:05:20.924398Z"
    }
   },
   "outputs": [],
   "source": [
    "stats = ['sapm', 'slpm', 'str_acc', 'str_def', 'td_acc', 'td_avg', 'td_def',\n",
    "         'eff', 'active', 'grind', 'st_ratio']\n",
    "attr = ['age', 'ape_ratio']"
   ]
  },
  {
   "cell_type": "code",
   "execution_count": 534,
   "metadata": {
    "ExecuteTime": {
     "end_time": "2019-04-22T05:05:20.941416Z",
     "start_time": "2019-04-22T05:05:20.929991Z"
    }
   },
   "outputs": [],
   "source": [
    "df.country.replace('United States', 'USA', inplace=True)\n",
    "df.nc.fillna(0, inplace=True)\n",
    "df.dob.fillna(df.birth_date, inplace=True)\n",
    "df.drop(['birth_date', 'class', 'nick2', 'weight2'], axis=1, inplace=True)"
   ]
  },
  {
   "cell_type": "code",
   "execution_count": 535,
   "metadata": {
    "ExecuteTime": {
     "end_time": "2019-04-22T05:05:20.992883Z",
     "start_time": "2019-04-22T05:05:20.942735Z"
    }
   },
   "outputs": [
    {
     "data": {
      "text/html": [
       "<div>\n",
       "<style scoped>\n",
       "    .dataframe tbody tr th:only-of-type {\n",
       "        vertical-align: middle;\n",
       "    }\n",
       "\n",
       "    .dataframe tbody tr th {\n",
       "        vertical-align: top;\n",
       "    }\n",
       "\n",
       "    .dataframe thead th {\n",
       "        text-align: right;\n",
       "    }\n",
       "</style>\n",
       "<table border=\"1\" class=\"dataframe\">\n",
       "  <thead>\n",
       "    <tr style=\"text-align: right;\">\n",
       "      <th></th>\n",
       "      <th>sapm</th>\n",
       "      <th>slpm</th>\n",
       "      <th>str_acc</th>\n",
       "      <th>str_def</th>\n",
       "      <th>td_acc</th>\n",
       "      <th>td_avg</th>\n",
       "      <th>td_def</th>\n",
       "      <th>eff</th>\n",
       "      <th>active</th>\n",
       "      <th>grind</th>\n",
       "      <th>st_ratio</th>\n",
       "      <th>age</th>\n",
       "      <th>ape_ratio</th>\n",
       "    </tr>\n",
       "  </thead>\n",
       "  <tbody>\n",
       "    <tr>\n",
       "      <th>count</th>\n",
       "      <td>2589.000000</td>\n",
       "      <td>2589.000000</td>\n",
       "      <td>2589.000000</td>\n",
       "      <td>2589.000000</td>\n",
       "      <td>2589.000000</td>\n",
       "      <td>2589.000000</td>\n",
       "      <td>2589.000000</td>\n",
       "      <td>2568.000000</td>\n",
       "      <td>2589.000000</td>\n",
       "      <td>1371.000000</td>\n",
       "      <td>1755.000000</td>\n",
       "      <td>2264.000000</td>\n",
       "      <td>1509.000000</td>\n",
       "    </tr>\n",
       "    <tr>\n",
       "      <th>mean</th>\n",
       "      <td>3.513492</td>\n",
       "      <td>2.646748</td>\n",
       "      <td>0.411591</td>\n",
       "      <td>0.519838</td>\n",
       "      <td>0.318138</td>\n",
       "      <td>1.458644</td>\n",
       "      <td>0.457644</td>\n",
       "      <td>1.008996</td>\n",
       "      <td>6.160239</td>\n",
       "      <td>2.569687</td>\n",
       "      <td>41.451595</td>\n",
       "      <td>35.913777</td>\n",
       "      <td>1.024117</td>\n",
       "    </tr>\n",
       "    <tr>\n",
       "      <th>std</th>\n",
       "      <td>2.717576</td>\n",
       "      <td>1.670198</td>\n",
       "      <td>0.146250</td>\n",
       "      <td>0.134866</td>\n",
       "      <td>0.295712</td>\n",
       "      <td>1.938281</td>\n",
       "      <td>0.327702</td>\n",
       "      <td>1.804198</td>\n",
       "      <td>3.415168</td>\n",
       "      <td>3.964608</td>\n",
       "      <td>59.155564</td>\n",
       "      <td>6.435289</td>\n",
       "      <td>0.027636</td>\n",
       "    </tr>\n",
       "    <tr>\n",
       "      <th>min</th>\n",
       "      <td>0.000000</td>\n",
       "      <td>0.000000</td>\n",
       "      <td>0.000000</td>\n",
       "      <td>0.000000</td>\n",
       "      <td>0.000000</td>\n",
       "      <td>0.000000</td>\n",
       "      <td>0.000000</td>\n",
       "      <td>0.000000</td>\n",
       "      <td>0.000000</td>\n",
       "      <td>0.000000</td>\n",
       "      <td>0.000000</td>\n",
       "      <td>19.616438</td>\n",
       "      <td>0.942029</td>\n",
       "    </tr>\n",
       "    <tr>\n",
       "      <th>25%</th>\n",
       "      <td>2.140000</td>\n",
       "      <td>1.480000</td>\n",
       "      <td>0.340000</td>\n",
       "      <td>0.450000</td>\n",
       "      <td>0.000000</td>\n",
       "      <td>0.000000</td>\n",
       "      <td>0.110000</td>\n",
       "      <td>0.501870</td>\n",
       "      <td>4.140000</td>\n",
       "      <td>0.502976</td>\n",
       "      <td>11.428411</td>\n",
       "      <td>31.214384</td>\n",
       "      <td>1.000000</td>\n",
       "    </tr>\n",
       "    <tr>\n",
       "      <th>50%</th>\n",
       "      <td>3.010000</td>\n",
       "      <td>2.470000</td>\n",
       "      <td>0.420000</td>\n",
       "      <td>0.540000</td>\n",
       "      <td>0.320000</td>\n",
       "      <td>0.980000</td>\n",
       "      <td>0.500000</td>\n",
       "      <td>0.829323</td>\n",
       "      <td>5.670000</td>\n",
       "      <td>1.440000</td>\n",
       "      <td>22.699115</td>\n",
       "      <td>35.320548</td>\n",
       "      <td>1.027027</td>\n",
       "    </tr>\n",
       "    <tr>\n",
       "      <th>75%</th>\n",
       "      <td>4.140000</td>\n",
       "      <td>3.530000</td>\n",
       "      <td>0.490000</td>\n",
       "      <td>0.600000</td>\n",
       "      <td>0.500000</td>\n",
       "      <td>2.160000</td>\n",
       "      <td>0.700000</td>\n",
       "      <td>1.183106</td>\n",
       "      <td>7.490000</td>\n",
       "      <td>3.000000</td>\n",
       "      <td>47.834592</td>\n",
       "      <td>39.962329</td>\n",
       "      <td>1.042857</td>\n",
       "    </tr>\n",
       "    <tr>\n",
       "      <th>max</th>\n",
       "      <td>52.500000</td>\n",
       "      <td>18.260000</td>\n",
       "      <td>1.000000</td>\n",
       "      <td>1.000000</td>\n",
       "      <td>1.000000</td>\n",
       "      <td>32.140000</td>\n",
       "      <td>1.000000</td>\n",
       "      <td>78.615385</td>\n",
       "      <td>52.940000</td>\n",
       "      <td>45.100000</td>\n",
       "      <td>690.000000</td>\n",
       "      <td>62.797260</td>\n",
       "      <td>1.120000</td>\n",
       "    </tr>\n",
       "  </tbody>\n",
       "</table>\n",
       "</div>"
      ],
      "text/plain": [
       "              sapm         slpm      str_acc      str_def       td_acc  \\\n",
       "count  2589.000000  2589.000000  2589.000000  2589.000000  2589.000000   \n",
       "mean      3.513492     2.646748     0.411591     0.519838     0.318138   \n",
       "std       2.717576     1.670198     0.146250     0.134866     0.295712   \n",
       "min       0.000000     0.000000     0.000000     0.000000     0.000000   \n",
       "25%       2.140000     1.480000     0.340000     0.450000     0.000000   \n",
       "50%       3.010000     2.470000     0.420000     0.540000     0.320000   \n",
       "75%       4.140000     3.530000     0.490000     0.600000     0.500000   \n",
       "max      52.500000    18.260000     1.000000     1.000000     1.000000   \n",
       "\n",
       "            td_avg       td_def          eff       active        grind  \\\n",
       "count  2589.000000  2589.000000  2568.000000  2589.000000  1371.000000   \n",
       "mean      1.458644     0.457644     1.008996     6.160239     2.569687   \n",
       "std       1.938281     0.327702     1.804198     3.415168     3.964608   \n",
       "min       0.000000     0.000000     0.000000     0.000000     0.000000   \n",
       "25%       0.000000     0.110000     0.501870     4.140000     0.502976   \n",
       "50%       0.980000     0.500000     0.829323     5.670000     1.440000   \n",
       "75%       2.160000     0.700000     1.183106     7.490000     3.000000   \n",
       "max      32.140000     1.000000    78.615385    52.940000    45.100000   \n",
       "\n",
       "          st_ratio          age    ape_ratio  \n",
       "count  1755.000000  2264.000000  1509.000000  \n",
       "mean     41.451595    35.913777     1.024117  \n",
       "std      59.155564     6.435289     0.027636  \n",
       "min       0.000000    19.616438     0.942029  \n",
       "25%      11.428411    31.214384     1.000000  \n",
       "50%      22.699115    35.320548     1.027027  \n",
       "75%      47.834592    39.962329     1.042857  \n",
       "max     690.000000    62.797260     1.120000  "
      ]
     },
     "execution_count": 535,
     "metadata": {},
     "output_type": "execute_result"
    }
   ],
   "source": [
    "df[stats+attr].describe()"
   ]
  },
  {
   "cell_type": "code",
   "execution_count": 536,
   "metadata": {
    "ExecuteTime": {
     "end_time": "2019-04-22T05:05:21.001074Z",
     "start_time": "2019-04-22T05:05:20.994975Z"
    }
   },
   "outputs": [
    {
     "data": {
      "text/plain": [
       "sw      69\n",
       "flw    144\n",
       "bw     273\n",
       "fw     288\n",
       "lw     432\n",
       "ww     442\n",
       "mw     351\n",
       "lhw    281\n",
       "hw     276\n",
       "shw     22\n",
       "Name: wc, dtype: int64"
      ]
     },
     "execution_count": 536,
     "metadata": {},
     "output_type": "execute_result"
    }
   ],
   "source": [
    "df['wc'].value_counts(sort=False)"
   ]
  },
  {
   "cell_type": "code",
   "execution_count": 537,
   "metadata": {
    "ExecuteTime": {
     "end_time": "2019-04-22T05:05:21.192868Z",
     "start_time": "2019-04-22T05:05:21.006724Z"
    }
   },
   "outputs": [
    {
     "name": "stderr",
     "output_type": "stream",
     "text": [
      "/anaconda3/lib/python3.6/site-packages/numpy/lib/function_base.py:3405: RuntimeWarning: All-NaN slice encountered\n",
      "  r = func(a, **kwargs)\n"
     ]
    }
   ],
   "source": [
    "gb = df.groupby('wc')[stats+attr].agg([np.mean, np.std, np.median, iqr_])"
   ]
  },
  {
   "cell_type": "code",
   "execution_count": 538,
   "metadata": {
    "ExecuteTime": {
     "end_time": "2019-04-22T05:05:23.578498Z",
     "start_time": "2019-04-22T05:05:21.202711Z"
    }
   },
   "outputs": [
    {
     "name": "stdout",
     "output_type": "stream",
     "text": [
      "\n",
      "sapm\n",
      "         mean       std  median     iqr\n",
      "wc                                     \n",
      "sw   4.377246  3.151077   3.720  1.9700\n",
      "flw  3.438333  1.474916   3.230  1.6800\n",
      "bw   3.647179  2.379336   3.270  1.7400\n",
      "fw   3.350035  2.020013   2.910  2.0250\n",
      "lw   3.313773  2.021862   2.975  1.9525\n",
      "ww   3.319525  2.115745   2.880  1.8350\n",
      "mw   3.301225  2.635515   2.770  1.6650\n",
      "lhw  3.759609  3.770535   3.130  2.5100\n",
      "hw   3.943696  4.052678   3.050  2.2475\n",
      "shw  3.732727  4.677054   2.060  2.8175\n"
     ]
    },
    {
     "data": {
      "image/png": "[encoded data removed]",
      "text/plain": [
       "<Figure size 432x288 with 1 Axes>"
      ]
     },
     "metadata": {
      "needs_background": "light"
     },
     "output_type": "display_data"
    },
    {
     "name": "stdout",
     "output_type": "stream",
     "text": [
      "\n",
      "slpm\n",
      "         mean       std  median     iqr\n",
      "wc                                     \n",
      "sw   3.623913  1.574501   3.610  2.3000\n",
      "flw  3.116667  1.388965   3.175  1.8300\n",
      "bw   3.030366  1.895586   2.720  1.9400\n",
      "fw   2.825903  1.634019   2.645  1.9825\n",
      "lw   2.556806  1.559492   2.350  2.0200\n",
      "ww   2.558552  1.514921   2.455  1.9675\n",
      "mw   2.428832  1.500536   2.210  1.8650\n",
      "lhw  2.469786  1.766997   2.250  2.3000\n",
      "hw   2.421449  1.898670   2.185  2.2850\n",
      "shw  2.163182  1.721946   1.955  2.0425\n"
     ]
    },
    {
     "data": {
      "image/png": "[encoded data removed]",
      "text/plain": [
       "<Figure size 432x288 with 1 Axes>"
      ]
     },
     "metadata": {
      "needs_background": "light"
     },
     "output_type": "display_data"
    },
    {
     "name": "stdout",
     "output_type": "stream",
     "text": [
      "\n",
      "str_acc\n",
      "         mean       std  median    iqr\n",
      "wc                                    \n",
      "sw   0.431449  0.124632   0.430  0.130\n",
      "flw  0.411597  0.102961   0.415  0.120\n",
      "bw   0.401502  0.120032   0.400  0.150\n",
      "fw   0.410764  0.118845   0.410  0.130\n",
      "lw   0.397153  0.140109   0.400  0.140\n",
      "ww   0.410860  0.142113   0.420  0.140\n",
      "mw   0.422564  0.156358   0.430  0.160\n",
      "lhw  0.423096  0.163211   0.430  0.170\n",
      "hw   0.418986  0.186469   0.430  0.170\n",
      "shw  0.435455  0.165895   0.425  0.225\n"
     ]
    },
    {
     "data": {
      "image/png": "[encoded data removed]",
      "text/plain": [
       "<Figure size 432x288 with 1 Axes>"
      ]
     },
     "metadata": {
      "needs_background": "light"
     },
     "output_type": "display_data"
    },
    {
     "name": "stdout",
     "output_type": "stream",
     "text": [
      "\n",
      "str_def\n",
      "         mean       std  median     iqr\n",
      "wc                                     \n",
      "sw   0.538986  0.132111   0.550  0.1100\n",
      "flw  0.558472  0.117314   0.570  0.1400\n",
      "bw   0.551282  0.110611   0.570  0.1500\n",
      "fw   0.551493  0.119774   0.560  0.1325\n",
      "lw   0.540602  0.128443   0.560  0.1500\n",
      "ww   0.517964  0.125519   0.535  0.1500\n",
      "mw   0.497892  0.144151   0.520  0.1500\n",
      "lhw  0.493950  0.140338   0.510  0.1700\n",
      "hw   0.466703  0.153766   0.480  0.1900\n",
      "shw  0.443636  0.163955   0.420  0.1775\n"
     ]
    },
    {
     "data": {
      "image/png": "[encoded data removed]",
      "text/plain": [
       "<Figure size 432x288 with 1 Axes>"
      ]
     },
     "metadata": {
      "needs_background": "light"
     },
     "output_type": "display_data"
    },
    {
     "name": "stdout",
     "output_type": "stream",
     "text": [
      "\n",
      "td_acc\n",
      "         mean       std  median     iqr\n",
      "wc                                     \n",
      "sw   0.328406  0.299807   0.300  0.5000\n",
      "flw  0.319931  0.273390   0.305  0.4775\n",
      "bw   0.313846  0.287367   0.300  0.5000\n",
      "fw   0.292812  0.268361   0.280  0.4700\n",
      "lw   0.327037  0.285004   0.330  0.5000\n",
      "ww   0.353507  0.299633   0.340  0.5000\n",
      "mw   0.333618  0.307882   0.330  0.5000\n",
      "lhw  0.278114  0.281272   0.250  0.4800\n",
      "hw   0.296413  0.331743   0.235  0.5000\n",
      "shw  0.421364  0.406217   0.375  0.7500\n"
     ]
    },
    {
     "data": {
      "image/png": "[encoded data removed]",
      "text/plain": [
       "<Figure size 432x288 with 1 Axes>"
      ]
     },
     "metadata": {
      "needs_background": "light"
     },
     "output_type": "display_data"
    },
    {
     "name": "stdout",
     "output_type": "stream",
     "text": [
      "\n",
      "td_avg\n",
      "         mean       std  median     iqr\n",
      "wc                                     \n",
      "sw   1.247101  1.457343   0.770  1.7800\n",
      "flw  1.373819  1.439664   1.000  1.9775\n",
      "bw   1.395421  1.570843   0.950  2.2000\n",
      "fw   1.463368  1.770440   0.930  2.2275\n",
      "lw   1.599560  1.920057   1.200  2.4350\n",
      "ww   1.486267  1.653230   1.055  2.2275\n",
      "mw   1.572564  2.201712   1.040  2.2300\n",
      "lhw  1.393701  2.134180   0.680  2.0000\n",
      "hw   1.306957  2.574317   0.490  1.8400\n",
      "shw  1.357273  1.677036   0.625  2.3800\n"
     ]
    },
    {
     "data": {
      "image/png": "[encoded data removed]",
      "text/plain": [
       "<Figure size 432x288 with 1 Axes>"
      ]
     },
     "metadata": {
      "needs_background": "light"
     },
     "output_type": "display_data"
    },
    {
     "name": "stdout",
     "output_type": "stream",
     "text": [
      "\n",
      "td_def\n",
      "         mean       std  median     iqr\n",
      "wc                                     \n",
      "sw   0.519710  0.317231    0.53  0.4200\n",
      "flw  0.508194  0.304857    0.55  0.3925\n",
      "bw   0.502454  0.315822    0.52  0.4700\n",
      "fw   0.514861  0.329354    0.56  0.4900\n",
      "lw   0.457894  0.313402    0.50  0.5000\n",
      "ww   0.468937  0.311431    0.50  0.4300\n",
      "mw   0.446296  0.328912    0.50  0.6600\n",
      "lhw  0.394947  0.341947    0.42  0.6600\n",
      "hw   0.394275  0.350356    0.38  0.6925\n",
      "shw  0.355909  0.405376    0.08  0.7050\n"
     ]
    },
    {
     "data": {
      "image/png": "[encoded data removed]",
      "text/plain": [
       "<Figure size 432x288 with 1 Axes>"
      ]
     },
     "metadata": {
      "needs_background": "light"
     },
     "output_type": "display_data"
    },
    {
     "name": "stdout",
     "output_type": "stream",
     "text": [
      "\n",
      "eff\n",
      "         mean       std    median       iqr\n",
      "wc                                         \n",
      "sw   1.109629  1.130182  0.824882  0.551832\n",
      "flw  1.021176  0.561554  0.909091  0.645804\n",
      "bw   0.987829  0.719389  0.886977  0.610328\n",
      "fw   1.009657  0.737149  0.876000  0.604757\n",
      "lw   0.939575  0.827699  0.802139  0.643615\n",
      "ww   0.966077  0.847014  0.838739  0.687521\n",
      "mw   1.035421  1.234018  0.829940  0.679863\n",
      "lhw  1.191797  4.732203  0.777778  0.774723\n",
      "hw   0.993341  1.404202  0.685506  0.812501\n",
      "shw  0.837638  0.718996  0.578704  0.831723\n"
     ]
    },
    {
     "data": {
      "image/png": "[encoded data removed]",
      "text/plain": [
       "<Figure size 432x288 with 1 Axes>"
      ]
     },
     "metadata": {
      "needs_background": "light"
     },
     "output_type": "display_data"
    },
    {
     "name": "stdout",
     "output_type": "stream",
     "text": [
      "\n",
      "active\n",
      "         mean       std  median     iqr\n",
      "wc                                     \n",
      "sw   8.001159  3.892700   7.580  3.2500\n",
      "flw  6.555000  2.286540   6.275  2.9000\n",
      "bw   6.677546  3.223588   6.140  3.1800\n",
      "fw   6.175937  3.059798   5.755  3.4950\n",
      "lw   5.870579  2.861698   5.530  3.2825\n",
      "ww   5.878077  2.930390   5.460  3.2475\n",
      "mw   5.730057  3.181094   5.230  2.7200\n",
      "lhw  6.229395  4.203780   5.770  3.3800\n",
      "hw   6.365145  4.527566   5.630  3.4125\n",
      "shw  5.895909  6.192418   4.195  3.7600\n"
     ]
    },
    {
     "data": {
      "image/png": "[encoded data removed]",
      "text/plain": [
       "<Figure size 432x288 with 1 Axes>"
      ]
     },
     "metadata": {
      "needs_background": "light"
     },
     "output_type": "display_data"
    },
    {
     "name": "stdout",
     "output_type": "stream",
     "text": [
      "\n",
      "grind\n",
      "         mean       std    median       iqr\n",
      "wc                                         \n",
      "sw   2.426451  2.433284  1.333333  1.783333\n",
      "flw  2.939525  4.703540  1.511905  2.493074\n",
      "bw   3.034147  4.884320  1.568750  2.618495\n",
      "fw   2.450246  2.960728  1.421429  2.763333\n",
      "lw   2.659597  3.781548  1.556250  2.749692\n",
      "ww   2.538128  4.045827  1.490000  2.276429\n",
      "mw   1.989369  2.297377  1.323158  2.219391\n",
      "lhw  3.010943  5.803339  1.471429  2.733586\n",
      "hw   2.336208  3.473996  1.133704  2.103463\n",
      "shw  2.004846  2.469228  1.273214  1.555746\n"
     ]
    },
    {
     "data": {
      "image/png": "[encoded data removed]",
      "text/plain": [
       "<Figure size 432x288 with 1 Axes>"
      ]
     },
     "metadata": {
      "needs_background": "light"
     },
     "output_type": "display_data"
    },
    {
     "name": "stdout",
     "output_type": "stream",
     "text": [
      "\n",
      "st_ratio\n",
      "          mean         std     median        iqr\n",
      "wc                                              \n",
      "sw   76.221005  103.355655  34.803922  62.109844\n",
      "flw  48.034093   71.215431  30.236842  40.338878\n",
      "bw   45.309328   54.052968  28.333333  45.487380\n",
      "fw   42.431855   49.295300  22.513345  41.677544\n",
      "lw   38.805022   64.274290  19.439462  31.356477\n",
      "ww   38.331882   49.972786  22.416996  32.859831\n",
      "mw   37.643969   52.796400  21.737968  33.159859\n",
      "lhw  40.704441   60.048955  19.771266  34.333084\n",
      "hw   39.955538   62.663578  21.951396  35.736091\n",
      "shw  24.358335   27.536184  12.843331  28.559213\n"
     ]
    },
    {
     "data": {
      "image/png": "[encoded data removed]",
      "text/plain": [
       "<Figure size 432x288 with 1 Axes>"
      ]
     },
     "metadata": {
      "needs_background": "light"
     },
     "output_type": "display_data"
    },
    {
     "name": "stdout",
     "output_type": "stream",
     "text": [
      "\n",
      "age\n",
      "          mean       std     median        iqr\n",
      "wc                                            \n",
      "sw   31.650875  4.722697  31.550685   6.246575\n",
      "flw  31.214605  4.434205  31.416438   6.021918\n",
      "bw   32.776641  4.933225  32.545205   7.326027\n",
      "fw   33.368678  5.045112  32.835616   6.884932\n",
      "lw   35.547684  5.167777  35.306849   7.349315\n",
      "ww   36.195118  5.610176  36.073973   7.432877\n",
      "mw   37.417191  6.281343  37.361644   9.016438\n",
      "lhw  39.015039  7.341270  38.989041  10.945205\n",
      "hw   40.063037  7.095048  40.372603   9.761644\n",
      "shw  48.642682  4.741274  49.265753   6.831507\n"
     ]
    },
    {
     "data": {
      "image/png": "[encoded data removed]",
      "text/plain": [
       "<Figure size 432x288 with 1 Axes>"
      ]
     },
     "metadata": {
      "needs_background": "light"
     },
     "output_type": "display_data"
    },
    {
     "name": "stdout",
     "output_type": "stream",
     "text": [
      "\n",
      "ape_ratio\n",
      "         mean       std    median       iqr\n",
      "wc                                         \n",
      "sw   1.010300  0.026152  1.015625  0.045587\n",
      "flw  1.013318  0.025266  1.014706  0.030303\n",
      "bw   1.019689  0.030490  1.015152  0.043478\n",
      "fw   1.021887  0.026851  1.014925  0.043478\n",
      "lw   1.023866  0.027733  1.026667  0.043478\n",
      "ww   1.027844  0.024053  1.028169  0.028817\n",
      "mw   1.029104  0.029292  1.027778  0.036631\n",
      "lhw  1.028752  0.027081  1.027027  0.029524\n",
      "hw   1.031866  0.025736  1.027397  0.038615\n",
      "shw       NaN       NaN       NaN       NaN\n"
     ]
    },
    {
     "data": {
      "image/png": "[encoded data removed]",
      "text/plain": [
       "<Figure size 432x288 with 1 Axes>"
      ]
     },
     "metadata": {
      "needs_background": "light"
     },
     "output_type": "display_data"
    }
   ],
   "source": [
    "for stat in stats+attr:\n",
    "    print(f'\\n{stat}')\n",
    "    print(gb[stat])\n",
    "    \n",
    "    # Plot\n",
    "    gb[stat]['mean'].plot(label='mean')\n",
    "    gb[stat]['median'].plot(label='median')\n",
    "    plt.title(stat)\n",
    "    plt.legend()\n",
    "    plt.show()"
   ]
  },
  {
   "cell_type": "code",
   "execution_count": 539,
   "metadata": {
    "ExecuteTime": {
     "end_time": "2019-04-22T05:05:23.672951Z",
     "start_time": "2019-04-22T05:05:23.580446Z"
    }
   },
   "outputs": [],
   "source": [
    "for col in stats+attr:\n",
    "    df[f'z_{col}'] = wc_normalize(df, col, gb, False)"
   ]
  },
  {
   "cell_type": "code",
   "execution_count": 540,
   "metadata": {
    "ExecuteTime": {
     "end_time": "2019-04-22T05:05:23.690828Z",
     "start_time": "2019-04-22T05:05:23.674602Z"
    }
   },
   "outputs": [],
   "source": [
    "df.dropna(subset=['age']).sort_values('age')[['name1', 'age']].ends(10)"
   ]
  },
  {
   "cell_type": "code",
   "execution_count": 541,
   "metadata": {
    "ExecuteTime": {
     "end_time": "2019-04-22T05:05:23.700651Z",
     "start_time": "2019-04-22T05:05:23.692953Z"
    }
   },
   "outputs": [
    {
     "data": {
      "text/plain": [
       "Index(['d', 'l', 'nc', 'w', 'association', 'country', 'dob', 'fname',\n",
       "       'height1', 'height2', 'lname', 'locality', 'name1', 'nick1', 'reach',\n",
       "       'sapm', 'slpm', 'stance', 'str_acc', 'str_def', 'sub_avg', 'td_acc',\n",
       "       'td_avg', 'td_def', 'weight1', 'eff', 'active', 'grind', 'ape_ratio',\n",
       "       'st_ratio', 'age', 'wc', 'w_pct', 'z_sapm', 'z_slpm', 'z_str_acc',\n",
       "       'z_str_def', 'z_td_acc', 'z_td_avg', 'z_td_def', 'z_eff', 'z_active',\n",
       "       'z_grind', 'z_st_ratio', 'z_age', 'z_ape_ratio'],\n",
       "      dtype='object')"
      ]
     },
     "execution_count": 541,
     "metadata": {},
     "output_type": "execute_result"
    }
   ],
   "source": [
    "df.columns"
   ]
  },
  {
   "cell_type": "code",
   "execution_count": 542,
   "metadata": {
    "ExecuteTime": {
     "end_time": "2019-04-22T05:05:24.052991Z",
     "start_time": "2019-04-22T05:05:23.702722Z"
    }
   },
   "outputs": [
    {
     "data": {
      "image/png": "[encoded data removed]",
      "text/plain": [
       "<Figure size 432x288 with 1 Axes>"
      ]
     },
     "metadata": {
      "needs_background": "light"
     },
     "output_type": "display_data"
    }
   ],
   "source": [
    "df.age.plot.hist()\n",
    "plt.show()"
   ]
  },
  {
   "cell_type": "code",
   "execution_count": 543,
   "metadata": {
    "ExecuteTime": {
     "end_time": "2019-04-22T05:05:24.079216Z",
     "start_time": "2019-04-22T05:05:24.057378Z"
    }
   },
   "outputs": [
    {
     "data": {
      "text/html": [
       "<div>\n",
       "<style scoped>\n",
       "    .dataframe tbody tr th:only-of-type {\n",
       "        vertical-align: middle;\n",
       "    }\n",
       "\n",
       "    .dataframe tbody tr th {\n",
       "        vertical-align: top;\n",
       "    }\n",
       "\n",
       "    .dataframe thead th {\n",
       "        text-align: right;\n",
       "    }\n",
       "</style>\n",
       "<table border=\"1\" class=\"dataframe\">\n",
       "  <thead>\n",
       "    <tr style=\"text-align: right;\">\n",
       "      <th></th>\n",
       "      <th>name1</th>\n",
       "      <th>age</th>\n",
       "    </tr>\n",
       "  </thead>\n",
       "  <tbody>\n",
       "    <tr>\n",
       "      <th>1585</th>\n",
       "      <td>Yoshiaki Yatsu</td>\n",
       "      <td>62.797260</td>\n",
       "    </tr>\n",
       "    <tr>\n",
       "      <th>11</th>\n",
       "      <td>Maurice Smith</td>\n",
       "      <td>57.391781</td>\n",
       "    </tr>\n",
       "    <tr>\n",
       "      <th>1310</th>\n",
       "      <td>Herschel Walker</td>\n",
       "      <td>57.172603</td>\n",
       "    </tr>\n",
       "    <tr>\n",
       "      <th>2538</th>\n",
       "      <td>Nobuhiko Takada</td>\n",
       "      <td>57.063014</td>\n",
       "    </tr>\n",
       "    <tr>\n",
       "      <th>929</th>\n",
       "      <td>Randy Couture</td>\n",
       "      <td>55.868493</td>\n",
       "    </tr>\n",
       "    <tr>\n",
       "      <th>1635</th>\n",
       "      <td>Paulo Cesar Silva</td>\n",
       "      <td>55.789041</td>\n",
       "    </tr>\n",
       "    <tr>\n",
       "      <th>2188</th>\n",
       "      <td>Tadao Yasuda</td>\n",
       "      <td>55.569863</td>\n",
       "    </tr>\n",
       "    <tr>\n",
       "      <th>14</th>\n",
       "      <td>Ken Shamrock</td>\n",
       "      <td>55.227397</td>\n",
       "    </tr>\n",
       "    <tr>\n",
       "      <th>1787</th>\n",
       "      <td>Jose Canseco</td>\n",
       "      <td>54.838356</td>\n",
       "    </tr>\n",
       "    <tr>\n",
       "      <th>167</th>\n",
       "      <td>Mark Coleman</td>\n",
       "      <td>54.369863</td>\n",
       "    </tr>\n",
       "    <tr>\n",
       "      <th>170</th>\n",
       "      <td>Michael McDonald</td>\n",
       "      <td>54.238356</td>\n",
       "    </tr>\n",
       "    <tr>\n",
       "      <th>1098</th>\n",
       "      <td>Tra Telligman</td>\n",
       "      <td>54.235616</td>\n",
       "    </tr>\n",
       "    <tr>\n",
       "      <th>358</th>\n",
       "      <td>Bas Rutten</td>\n",
       "      <td>54.189041</td>\n",
       "    </tr>\n",
       "    <tr>\n",
       "      <th>658</th>\n",
       "      <td>Mike van Arsdale</td>\n",
       "      <td>53.871233</td>\n",
       "    </tr>\n",
       "    <tr>\n",
       "      <th>2167</th>\n",
       "      <td>Egan Inoue</td>\n",
       "      <td>53.832877</td>\n",
       "    </tr>\n",
       "    <tr>\n",
       "      <th>1459</th>\n",
       "      <td>Andrei Kopylov</td>\n",
       "      <td>53.800000</td>\n",
       "    </tr>\n",
       "    <tr>\n",
       "      <th>2281</th>\n",
       "      <td>Masaaki Satake</td>\n",
       "      <td>53.712329</td>\n",
       "    </tr>\n",
       "    <tr>\n",
       "      <th>1153</th>\n",
       "      <td>Gil Castillo</td>\n",
       "      <td>53.534247</td>\n",
       "    </tr>\n",
       "    <tr>\n",
       "      <th>40</th>\n",
       "      <td>Ron Waterman</td>\n",
       "      <td>53.443836</td>\n",
       "    </tr>\n",
       "    <tr>\n",
       "      <th>887</th>\n",
       "      <td>Don Frye</td>\n",
       "      <td>53.443836</td>\n",
       "    </tr>\n",
       "  </tbody>\n",
       "</table>\n",
       "</div>"
      ],
      "text/plain": [
       "                  name1        age\n",
       "1585     Yoshiaki Yatsu  62.797260\n",
       "11        Maurice Smith  57.391781\n",
       "1310    Herschel Walker  57.172603\n",
       "2538    Nobuhiko Takada  57.063014\n",
       "929       Randy Couture  55.868493\n",
       "1635  Paulo Cesar Silva  55.789041\n",
       "2188       Tadao Yasuda  55.569863\n",
       "14         Ken Shamrock  55.227397\n",
       "1787       Jose Canseco  54.838356\n",
       "167        Mark Coleman  54.369863\n",
       "170    Michael McDonald  54.238356\n",
       "1098      Tra Telligman  54.235616\n",
       "358          Bas Rutten  54.189041\n",
       "658    Mike van Arsdale  53.871233\n",
       "2167         Egan Inoue  53.832877\n",
       "1459     Andrei Kopylov  53.800000\n",
       "2281     Masaaki Satake  53.712329\n",
       "1153       Gil Castillo  53.534247\n",
       "40         Ron Waterman  53.443836\n",
       "887            Don Frye  53.443836"
      ]
     },
     "execution_count": 543,
     "metadata": {},
     "output_type": "execute_result"
    }
   ],
   "source": [
    "df.loc[df.age > 40, ['name1', 'age']]\\\n",
    "  .sort_values('age', ascending=False).head(20)"
   ]
  },
  {
   "cell_type": "code",
   "execution_count": 544,
   "metadata": {
    "ExecuteTime": {
     "end_time": "2019-04-22T05:05:24.444836Z",
     "start_time": "2019-04-22T05:05:24.082119Z"
    }
   },
   "outputs": [
    {
     "name": "stdout",
     "output_type": "stream",
     "text": [
      "\n",
      "sapm\n",
      "\n",
      "country\n",
      "Australia    4.053810\n",
      "Sweden       3.626923\n",
      "Poland       3.486471\n",
      "Canada       3.356667\n",
      "USA          3.282816\n",
      "England      3.270000\n",
      "Japan        3.263469\n",
      "Brazil       3.178954\n",
      "Mexico       3.094000\n",
      "Russia       2.616522\n",
      "France       2.531000\n",
      "Name: sapm, dtype: float64\n",
      "\n",
      "slpm\n",
      "\n",
      "country\n",
      "Poland       3.084706\n",
      "Canada       2.752576\n",
      "Mexico       2.737333\n",
      "Australia    2.654762\n",
      "Brazil       2.620261\n",
      "USA          2.606579\n",
      "Russia       2.561304\n",
      "France       2.525000\n",
      "Sweden       2.520769\n",
      "England      2.504909\n",
      "Japan        1.856531\n",
      "Name: slpm, dtype: float64\n",
      "\n",
      "str_acc\n",
      "\n",
      "country\n",
      "Sweden       0.466923\n",
      "Poland       0.461765\n",
      "Australia    0.458095\n",
      "France       0.444000\n",
      "Canada       0.434545\n",
      "Russia       0.426957\n",
      "Brazil       0.418039\n",
      "USA          0.410408\n",
      "England      0.397818\n",
      "Japan        0.393469\n",
      "Mexico       0.364667\n",
      "Name: str_acc, dtype: float64\n",
      "\n",
      "str_def\n",
      "\n",
      "country\n",
      "Mexico       0.578667\n",
      "Russia       0.574783\n",
      "Brazil       0.544444\n",
      "Canada       0.528939\n",
      "USA          0.528053\n",
      "England      0.522364\n",
      "Japan        0.507755\n",
      "Sweden       0.506154\n",
      "Poland       0.505882\n",
      "Australia    0.501429\n",
      "France       0.500000\n",
      "Name: str_def, dtype: float64\n",
      "\n",
      "td_acc\n",
      "\n",
      "country\n",
      "Sweden       0.491538\n",
      "Russia       0.425652\n",
      "Canada       0.376667\n",
      "Japan        0.359184\n",
      "USA          0.352250\n",
      "Mexico       0.337333\n",
      "Australia    0.336667\n",
      "Brazil       0.333464\n",
      "Poland       0.295882\n",
      "France       0.282000\n",
      "England      0.279636\n",
      "Name: td_acc, dtype: float64\n",
      "\n",
      "td_avg\n",
      "\n",
      "country\n",
      "Sweden       2.274615\n",
      "Russia       2.005217\n",
      "Australia    1.698095\n",
      "USA          1.554671\n",
      "Poland       1.534118\n",
      "Japan        1.475306\n",
      "Brazil       1.415621\n",
      "Canada       1.337273\n",
      "England      0.962545\n",
      "Mexico       0.949333\n",
      "France       0.827000\n",
      "Name: td_avg, dtype: float64\n",
      "\n",
      "td_def\n",
      "\n",
      "country\n",
      "Sweden       0.650000\n",
      "Russia       0.639565\n",
      "Poland       0.584118\n",
      "England      0.551818\n",
      "Brazil       0.551699\n",
      "Canada       0.525455\n",
      "USA          0.484276\n",
      "Mexico       0.474667\n",
      "Australia    0.463810\n",
      "France       0.462000\n",
      "Japan        0.437347\n",
      "Name: td_def, dtype: float64\n",
      "\n",
      "eff\n",
      "\n",
      "country\n",
      "Russia       1.207413\n",
      "France       1.174579\n",
      "Poland       1.032096\n",
      "Mexico       0.991317\n",
      "Canada       0.957678\n",
      "USA          0.941543\n",
      "Brazil       0.928800\n",
      "England      0.877985\n",
      "Australia    0.793402\n",
      "Sweden       0.712259\n",
      "Japan        0.696759\n",
      "Name: eff, dtype: float64\n",
      "\n",
      "active\n",
      "\n",
      "country\n",
      "Australia    6.708571\n",
      "Poland       6.571176\n",
      "Sweden       6.147692\n",
      "Canada       6.109242\n",
      "USA          5.889395\n",
      "Mexico       5.831333\n",
      "Brazil       5.799216\n",
      "England      5.774909\n",
      "Russia       5.177826\n",
      "Japan        5.120000\n",
      "France       5.056000\n",
      "Name: active, dtype: float64\n",
      "\n",
      "grind\n",
      "\n",
      "country\n",
      "Russia       7.444848\n",
      "Poland       5.164583\n",
      "Mexico       3.987656\n",
      "Canada       3.812332\n",
      "France       3.568519\n",
      "Japan        3.463915\n",
      "Australia    3.310271\n",
      "USA          2.974261\n",
      "Brazil       2.496105\n",
      "Sweden       2.200097\n",
      "England      1.300160\n",
      "Name: grind, dtype: float64\n",
      "\n",
      "st_ratio\n",
      "\n",
      "country\n",
      "Poland       123.222112\n",
      "Mexico        65.234071\n",
      "England       58.859519\n",
      "Canada        48.743704\n",
      "USA           45.142532\n",
      "Russia        42.345242\n",
      "France        41.865437\n",
      "Brazil        40.988645\n",
      "Australia     35.674149\n",
      "Japan         23.135489\n",
      "Sweden        22.502857\n",
      "Name: st_ratio, dtype: float64\n"
     ]
    }
   ],
   "source": [
    "for stat in stats:\n",
    "    print('\\n' + stat + '\\n')\n",
    "    print(top_cats(df, 'country', val=10).groupby('country')[stat]\\\n",
    "          .mean()\\\n",
    "          .sort_values(ascending=False))"
   ]
  },
  {
   "cell_type": "code",
   "execution_count": 545,
   "metadata": {
    "ExecuteTime": {
     "end_time": "2019-04-22T05:05:24.461348Z",
     "start_time": "2019-04-22T05:05:24.451641Z"
    }
   },
   "outputs": [],
   "source": [
    "df[['name1', 'st_ratio']].sort_values('st_ratio', ascending=False).ends(10)"
   ]
  },
  {
   "cell_type": "code",
   "execution_count": 546,
   "metadata": {
    "ExecuteTime": {
     "end_time": "2019-04-22T05:05:24.492327Z",
     "start_time": "2019-04-22T05:05:24.464094Z"
    }
   },
   "outputs": [
    {
     "data": {
      "text/html": [
       "<div>\n",
       "<style scoped>\n",
       "    .dataframe tbody tr th:only-of-type {\n",
       "        vertical-align: middle;\n",
       "    }\n",
       "\n",
       "    .dataframe tbody tr th {\n",
       "        vertical-align: top;\n",
       "    }\n",
       "\n",
       "    .dataframe thead th {\n",
       "        text-align: right;\n",
       "    }\n",
       "</style>\n",
       "<table border=\"1\" class=\"dataframe\">\n",
       "  <thead>\n",
       "    <tr style=\"text-align: right;\">\n",
       "      <th></th>\n",
       "      <th>sapm</th>\n",
       "      <th>slpm</th>\n",
       "      <th>str_acc</th>\n",
       "      <th>str_def</th>\n",
       "      <th>td_acc</th>\n",
       "      <th>td_avg</th>\n",
       "      <th>td_def</th>\n",
       "      <th>eff</th>\n",
       "      <th>active</th>\n",
       "      <th>grind</th>\n",
       "      <th>st_ratio</th>\n",
       "      <th>name1</th>\n",
       "    </tr>\n",
       "  </thead>\n",
       "  <tbody>\n",
       "    <tr>\n",
       "      <th>968</th>\n",
       "      <td>1.70</td>\n",
       "      <td>4.29</td>\n",
       "      <td>0.49</td>\n",
       "      <td>0.66</td>\n",
       "      <td>0.44</td>\n",
       "      <td>5.09</td>\n",
       "      <td>0.84</td>\n",
       "      <td>2.523529</td>\n",
       "      <td>5.99</td>\n",
       "      <td>8.483333</td>\n",
       "      <td>12.642436</td>\n",
       "      <td>Khabib Nurmagomedov</td>\n",
       "    </tr>\n",
       "    <tr>\n",
       "      <th>1240</th>\n",
       "      <td>4.03</td>\n",
       "      <td>6.90</td>\n",
       "      <td>0.46</td>\n",
       "      <td>0.64</td>\n",
       "      <td>0.83</td>\n",
       "      <td>0.32</td>\n",
       "      <td>0.83</td>\n",
       "      <td>1.712159</td>\n",
       "      <td>10.93</td>\n",
       "      <td>0.640000</td>\n",
       "      <td>323.437500</td>\n",
       "      <td>Max Holloway</td>\n",
       "    </tr>\n",
       "    <tr>\n",
       "      <th>1393</th>\n",
       "      <td>10.23</td>\n",
       "      <td>8.50</td>\n",
       "      <td>0.54</td>\n",
       "      <td>0.53</td>\n",
       "      <td>0.00</td>\n",
       "      <td>0.00</td>\n",
       "      <td>0.80</td>\n",
       "      <td>0.830890</td>\n",
       "      <td>18.73</td>\n",
       "      <td>NaN</td>\n",
       "      <td>NaN</td>\n",
       "      <td>Justin Gaethje</td>\n",
       "    </tr>\n",
       "    <tr>\n",
       "      <th>1595</th>\n",
       "      <td>1.95</td>\n",
       "      <td>4.69</td>\n",
       "      <td>0.59</td>\n",
       "      <td>0.64</td>\n",
       "      <td>0.09</td>\n",
       "      <td>0.86</td>\n",
       "      <td>1.00</td>\n",
       "      <td>2.405128</td>\n",
       "      <td>6.64</td>\n",
       "      <td>NaN</td>\n",
       "      <td>81.802326</td>\n",
       "      <td>Said Nurmagomedov</td>\n",
       "    </tr>\n",
       "    <tr>\n",
       "      <th>2156</th>\n",
       "      <td>1.02</td>\n",
       "      <td>1.63</td>\n",
       "      <td>0.50</td>\n",
       "      <td>0.79</td>\n",
       "      <td>0.00</td>\n",
       "      <td>0.00</td>\n",
       "      <td>0.00</td>\n",
       "      <td>1.598039</td>\n",
       "      <td>2.65</td>\n",
       "      <td>NaN</td>\n",
       "      <td>NaN</td>\n",
       "      <td>Jeremie Holloway</td>\n",
       "    </tr>\n",
       "    <tr>\n",
       "      <th>2249</th>\n",
       "      <td>3.07</td>\n",
       "      <td>0.70</td>\n",
       "      <td>0.42</td>\n",
       "      <td>0.34</td>\n",
       "      <td>0.35</td>\n",
       "      <td>3.00</td>\n",
       "      <td>0.16</td>\n",
       "      <td>0.228013</td>\n",
       "      <td>3.77</td>\n",
       "      <td>3.000000</td>\n",
       "      <td>3.500000</td>\n",
       "      <td>Gabrielle Holloway</td>\n",
       "    </tr>\n",
       "    <tr>\n",
       "      <th>2532</th>\n",
       "      <td>3.03</td>\n",
       "      <td>5.37</td>\n",
       "      <td>0.41</td>\n",
       "      <td>0.65</td>\n",
       "      <td>0.37</td>\n",
       "      <td>1.68</td>\n",
       "      <td>0.86</td>\n",
       "      <td>1.772277</td>\n",
       "      <td>8.40</td>\n",
       "      <td>1.680000</td>\n",
       "      <td>47.946429</td>\n",
       "      <td>TJ Dillashaw</td>\n",
       "    </tr>\n",
       "  </tbody>\n",
       "</table>\n",
       "</div>"
      ],
      "text/plain": [
       "       sapm  slpm  str_acc  str_def  td_acc  td_avg  td_def       eff  active  \\\n",
       "968    1.70  4.29     0.49     0.66    0.44    5.09    0.84  2.523529    5.99   \n",
       "1240   4.03  6.90     0.46     0.64    0.83    0.32    0.83  1.712159   10.93   \n",
       "1393  10.23  8.50     0.54     0.53    0.00    0.00    0.80  0.830890   18.73   \n",
       "1595   1.95  4.69     0.59     0.64    0.09    0.86    1.00  2.405128    6.64   \n",
       "2156   1.02  1.63     0.50     0.79    0.00    0.00    0.00  1.598039    2.65   \n",
       "2249   3.07  0.70     0.42     0.34    0.35    3.00    0.16  0.228013    3.77   \n",
       "2532   3.03  5.37     0.41     0.65    0.37    1.68    0.86  1.772277    8.40   \n",
       "\n",
       "         grind    st_ratio                name1  \n",
       "968   8.483333   12.642436  Khabib Nurmagomedov  \n",
       "1240  0.640000  323.437500         Max Holloway  \n",
       "1393       NaN         NaN       Justin Gaethje  \n",
       "1595       NaN   81.802326    Said Nurmagomedov  \n",
       "2156       NaN         NaN     Jeremie Holloway  \n",
       "2249  3.000000    3.500000   Gabrielle Holloway  \n",
       "2532  1.680000   47.946429         TJ Dillashaw  "
      ]
     },
     "execution_count": 546,
     "metadata": {},
     "output_type": "execute_result"
    }
   ],
   "source": [
    "df.loc[df.lname.isin(['Gaethje', 'Holloway', 'Dillashaw', 'Nurmagomedov']), \n",
    "       stats+['name1']]"
   ]
  },
  {
   "cell_type": "code",
   "execution_count": 547,
   "metadata": {
    "ExecuteTime": {
     "end_time": "2019-04-22T05:05:24.514581Z",
     "start_time": "2019-04-22T05:05:24.497184Z"
    }
   },
   "outputs": [
    {
     "data": {
      "text/html": [
       "<div>\n",
       "<style scoped>\n",
       "    .dataframe tbody tr th:only-of-type {\n",
       "        vertical-align: middle;\n",
       "    }\n",
       "\n",
       "    .dataframe tbody tr th {\n",
       "        vertical-align: top;\n",
       "    }\n",
       "\n",
       "    .dataframe thead th {\n",
       "        text-align: right;\n",
       "    }\n",
       "</style>\n",
       "<table border=\"1\" class=\"dataframe\">\n",
       "  <thead>\n",
       "    <tr style=\"text-align: right;\">\n",
       "      <th></th>\n",
       "      <th>name1</th>\n",
       "      <th>active</th>\n",
       "    </tr>\n",
       "  </thead>\n",
       "  <tbody>\n",
       "    <tr>\n",
       "      <th>1559</th>\n",
       "      <td>Tebaris Gordon</td>\n",
       "      <td>52.94</td>\n",
       "    </tr>\n",
       "    <tr>\n",
       "      <th>1660</th>\n",
       "      <td>Dashawn Boatwright</td>\n",
       "      <td>52.50</td>\n",
       "    </tr>\n",
       "    <tr>\n",
       "      <th>2466</th>\n",
       "      <td>Antonio Jones</td>\n",
       "      <td>37.50</td>\n",
       "    </tr>\n",
       "    <tr>\n",
       "      <th>2001</th>\n",
       "      <td>Sean O'Haire</td>\n",
       "      <td>31.04</td>\n",
       "    </tr>\n",
       "    <tr>\n",
       "      <th>2551</th>\n",
       "      <td>Maiara Amanajas dos Santos</td>\n",
       "      <td>30.00</td>\n",
       "    </tr>\n",
       "  </tbody>\n",
       "</table>\n",
       "</div>"
      ],
      "text/plain": [
       "                           name1  active\n",
       "1559              Tebaris Gordon   52.94\n",
       "1660          Dashawn Boatwright   52.50\n",
       "2466               Antonio Jones   37.50\n",
       "2001                Sean O'Haire   31.04\n",
       "2551  Maiara Amanajas dos Santos   30.00"
      ]
     },
     "execution_count": 547,
     "metadata": {},
     "output_type": "execute_result"
    }
   ],
   "source": [
    "df[['name1', 'active']].sort_values('active', ascending=False).head()"
   ]
  },
  {
   "cell_type": "code",
   "execution_count": 548,
   "metadata": {
    "ExecuteTime": {
     "end_time": "2019-04-22T05:05:24.774223Z",
     "start_time": "2019-04-22T05:05:24.518087Z"
    }
   },
   "outputs": [
    {
     "data": {
      "text/plain": [
       "association\n",
       "Alliance MMA                   3.070625\n",
       "American Kickboxing Academy    2.842353\n",
       "American Top Team              3.301346\n",
       "Blackzilians                   2.962778\n",
       "Grudge Training Center         3.257692\n",
       "Jackson-Wink MMA               3.027436\n",
       "MMA Lab                        3.483571\n",
       "Nova Uniao                     3.293889\n",
       "Renzo Gracie Jiu-Jitsu         2.673000\n",
       "Team Nogueira                  3.045000\n",
       "Tristar Gym                    2.758125\n",
       "Xtreme Couture                 2.648000\n",
       "Name: sapm, dtype: float64"
      ]
     },
     "execution_count": 548,
     "metadata": {},
     "output_type": "execute_result"
    }
   ],
   "source": [
    "top_cats(df, 'association', val=10).groupby('association')['sapm'].mean()"
   ]
  },
  {
   "cell_type": "code",
   "execution_count": 549,
   "metadata": {
    "ExecuteTime": {
     "end_time": "2019-04-22T05:05:27.063938Z",
     "start_time": "2019-04-22T05:05:24.776408Z"
    }
   },
   "outputs": [
    {
     "name": "stdout",
     "output_type": "stream",
     "text": [
      "\n",
      "sapm\n",
      "\n",
      "association\n",
      "Xtreme Couture                 2.648000\n",
      "Renzo Gracie Jiu-Jitsu         2.673000\n",
      "Tristar Gym                    2.758125\n",
      "American Kickboxing Academy    2.842353\n",
      "Blackzilians                   2.962778\n",
      "Jackson-Wink MMA               3.027436\n",
      "Team Nogueira                  3.045000\n",
      "Alliance MMA                   3.070625\n",
      "Grudge Training Center         3.257692\n",
      "Nova Uniao                     3.293889\n",
      "American Top Team              3.301346\n",
      "MMA Lab                        3.483571\n",
      "Name: sapm, dtype: float64\n",
      "\n",
      "slpm\n",
      "\n",
      "association\n",
      "Renzo Gracie Jiu-Jitsu         2.207000\n",
      "Team Nogueira                  2.375000\n",
      "Nova Uniao                     2.878889\n",
      "Xtreme Couture                 2.966000\n",
      "Jackson-Wink MMA               2.975385\n",
      "Alliance MMA                   2.986875\n",
      "American Top Team              3.095769\n",
      "Grudge Training Center         3.146154\n",
      "Tristar Gym                    3.171250\n",
      "Blackzilians                   3.177222\n",
      "MMA Lab                        3.222857\n",
      "American Kickboxing Academy    3.300000\n",
      "Name: slpm, dtype: float64\n",
      "\n",
      "str_acc\n",
      "\n",
      "association\n",
      "Jackson-Wink MMA               0.402308\n",
      "MMA Lab                        0.402857\n",
      "American Top Team              0.407308\n",
      "Xtreme Couture                 0.410000\n",
      "Nova Uniao                     0.413333\n",
      "Grudge Training Center         0.420769\n",
      "Alliance MMA                   0.426250\n",
      "Team Nogueira                  0.432000\n",
      "American Kickboxing Academy    0.432941\n",
      "Renzo Gracie Jiu-Jitsu         0.434000\n",
      "Tristar Gym                    0.445000\n",
      "Blackzilians                   0.458333\n",
      "Name: str_acc, dtype: float64\n",
      "\n",
      "str_def\n",
      "\n",
      "association\n",
      "Alliance MMA                   0.523750\n",
      "Renzo Gracie Jiu-Jitsu         0.538000\n",
      "American Top Team              0.547308\n",
      "MMA Lab                        0.548571\n",
      "Team Nogueira                  0.558000\n",
      "Grudge Training Center         0.559231\n",
      "Nova Uniao                     0.559444\n",
      "American Kickboxing Academy    0.560000\n",
      "Xtreme Couture                 0.565333\n",
      "Jackson-Wink MMA               0.566154\n",
      "Blackzilians                   0.567222\n",
      "Tristar Gym                    0.628750\n",
      "Name: str_def, dtype: float64\n",
      "\n",
      "td_acc\n",
      "\n",
      "association\n",
      "Renzo Gracie Jiu-Jitsu         0.229000\n",
      "Grudge Training Center         0.303846\n",
      "Nova Uniao                     0.306111\n",
      "MMA Lab                        0.330714\n",
      "Alliance MMA                   0.353125\n",
      "Jackson-Wink MMA               0.361282\n",
      "Xtreme Couture                 0.378000\n",
      "American Top Team              0.392692\n",
      "Team Nogueira                  0.397000\n",
      "Tristar Gym                    0.418750\n",
      "American Kickboxing Academy    0.424118\n",
      "Blackzilians                   0.444444\n",
      "Name: td_acc, dtype: float64\n",
      "\n",
      "td_avg\n",
      "\n",
      "association\n",
      "Grudge Training Center         0.952308\n",
      "MMA Lab                        1.063571\n",
      "Team Nogueira                  1.337000\n",
      "Jackson-Wink MMA               1.606667\n",
      "American Top Team              1.623269\n",
      "Alliance MMA                   1.633750\n",
      "Nova Uniao                     1.650000\n",
      "Renzo Gracie Jiu-Jitsu         1.658000\n",
      "Tristar Gym                    1.823125\n",
      "Blackzilians                   1.840000\n",
      "American Kickboxing Academy    2.031176\n",
      "Xtreme Couture                 2.270667\n",
      "Name: td_avg, dtype: float64\n",
      "\n",
      "td_def\n",
      "\n",
      "association\n",
      "Renzo Gracie Jiu-Jitsu         0.444000\n",
      "Team Nogueira                  0.468000\n",
      "Grudge Training Center         0.481538\n",
      "MMA Lab                        0.557857\n",
      "Jackson-Wink MMA               0.570769\n",
      "American Top Team              0.591731\n",
      "American Kickboxing Academy    0.608824\n",
      "Tristar Gym                    0.616875\n",
      "Alliance MMA                   0.630000\n",
      "Blackzilians                   0.632222\n",
      "Xtreme Couture                 0.660667\n",
      "Nova Uniao                     0.668889\n",
      "Name: td_def, dtype: float64\n",
      "\n",
      "eff\n",
      "\n",
      "association\n",
      "Team Nogueira                  0.826810\n",
      "Nova Uniao                     0.875868\n",
      "Renzo Gracie Jiu-Jitsu         0.952099\n",
      "American Top Team              0.975342\n",
      "MMA Lab                        1.038266\n",
      "Grudge Training Center         1.042111\n",
      "Jackson-Wink MMA               1.096272\n",
      "Alliance MMA                   1.112130\n",
      "Xtreme Couture                 1.133298\n",
      "Blackzilians                   1.152979\n",
      "American Kickboxing Academy    1.251264\n",
      "Tristar Gym                    2.088759\n",
      "Name: eff, dtype: float64\n",
      "\n",
      "active\n",
      "\n",
      "association\n",
      "Renzo Gracie Jiu-Jitsu         4.880000\n",
      "Team Nogueira                  5.420000\n",
      "Xtreme Couture                 5.614000\n",
      "Tristar Gym                    5.929375\n",
      "Jackson-Wink MMA               6.002821\n",
      "Alliance MMA                   6.057500\n",
      "Blackzilians                   6.140000\n",
      "American Kickboxing Academy    6.142353\n",
      "Nova Uniao                     6.172778\n",
      "American Top Team              6.397115\n",
      "Grudge Training Center         6.403846\n",
      "MMA Lab                        6.706429\n",
      "Name: active, dtype: float64\n",
      "\n",
      "grind\n",
      "\n",
      "association\n",
      "MMA Lab                        1.959004\n",
      "Team Nogueira                  2.139554\n",
      "Grudge Training Center         2.342320\n",
      "Nova Uniao                     2.876704\n",
      "Xtreme Couture                 2.954943\n",
      "American Kickboxing Academy    3.140596\n",
      "Renzo Gracie Jiu-Jitsu         3.432500\n",
      "American Top Team              3.963450\n",
      "Blackzilians                   4.435567\n",
      "Jackson-Wink MMA               4.596036\n",
      "Alliance MMA                   6.488750\n",
      "Tristar Gym                    7.561683\n",
      "Name: grind, dtype: float64\n",
      "\n",
      "st_ratio\n",
      "\n",
      "association\n",
      "Renzo Gracie Jiu-Jitsu         22.985948\n",
      "Xtreme Couture                 23.966719\n",
      "Nova Uniao                     25.892766\n",
      "American Kickboxing Academy    27.351575\n",
      "Blackzilians                   32.572121\n",
      "Tristar Gym                    33.769264\n",
      "Alliance MMA                   36.961398\n",
      "American Top Team              44.640708\n",
      "Team Nogueira                  46.135527\n",
      "Jackson-Wink MMA               67.235067\n",
      "MMA Lab                        80.260480\n",
      "Grudge Training Center         81.229262\n",
      "Name: st_ratio, dtype: float64\n"
     ]
    }
   ],
   "source": [
    "for stat in stats:\n",
    "    print(f'\\n{stat}\\n')\n",
    "    print(top_cats(df, 'association', val=10).groupby('association')\n",
    "          [stat].mean().sort_values())"
   ]
  },
  {
   "cell_type": "code",
   "execution_count": 550,
   "metadata": {
    "ExecuteTime": {
     "end_time": "2019-04-22T05:05:27.073811Z",
     "start_time": "2019-04-22T05:05:27.065842Z"
    }
   },
   "outputs": [
    {
     "data": {
      "text/plain": [
       "ww     442\n",
       "lw     432\n",
       "mw     351\n",
       "fw     288\n",
       "lhw    281\n",
       "hw     276\n",
       "bw     273\n",
       "flw    144\n",
       "sw      69\n",
       "shw     22\n",
       "NaN     11\n",
       "Name: wc, dtype: int64"
      ]
     },
     "execution_count": 550,
     "metadata": {},
     "output_type": "execute_result"
    }
   ],
   "source": [
    "df.wc.value_counts(dropna=False)"
   ]
  },
  {
   "cell_type": "code",
   "execution_count": 566,
   "metadata": {
    "ExecuteTime": {
     "end_time": "2019-04-22T05:42:28.727111Z",
     "start_time": "2019-04-22T05:42:28.717841Z"
    }
   },
   "outputs": [
    {
     "data": {
      "text/plain": [
       "(2589, 47)"
      ]
     },
     "execution_count": 566,
     "metadata": {},
     "output_type": "execute_result"
    }
   ],
   "source": [
    "df.shape"
   ]
  },
  {
   "cell_type": "code",
   "execution_count": 567,
   "metadata": {
    "ExecuteTime": {
     "end_time": "2019-04-22T05:42:30.112593Z",
     "start_time": "2019-04-22T05:42:29.881356Z"
    }
   },
   "outputs": [],
   "source": [
    "df.to_csv('data/final.csv', index=False)"
   ]
  },
  {
   "cell_type": "code",
   "execution_count": null,
   "metadata": {},
   "outputs": [],
   "source": []
  }
 ],
 "metadata": {
  "kernelspec": {
   "display_name": "Python 3",
   "language": "python",
   "name": "python3"
  },
  "language_info": {
   "codemirror_mode": {
    "name": "ipython",
    "version": 3
   },
   "file_extension": ".py",
   "mimetype": "text/x-python",
   "name": "python",
   "nbconvert_exporter": "python",
   "pygments_lexer": "ipython3",
   "version": "3.6.8"
  }
 },
 "nbformat": 4,
 "nbformat_minor": 2
}
